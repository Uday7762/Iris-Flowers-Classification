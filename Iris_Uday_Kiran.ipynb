{
  "nbformat": 4,
  "nbformat_minor": 0,
  "metadata": {
    "colab": {
      "provenance": []
    },
    "kernelspec": {
      "name": "python3",
      "display_name": "Python 3"
    },
    "language_info": {
      "name": "python"
    }
  },
  "cells": [
    {
      "cell_type": "markdown",
      "source": [
        "\n",
        "#**Iris Flowers Classification :**\n",
        "#**Predict the different species of flowers on the length of there petals and sepals**"
      ],
      "metadata": {
        "id": "2yDJhIn2n0fo"
      }
    },
    {
      "cell_type": "markdown",
      "source": [
        "# Implementing using K-Nearest Neighbors Algorithm (Classification)\n",
        "\n",
        " 1) Create a K-NN model from scratch\n",
        "\n",
        " 2) Use sklearn to implement K-NN\n",
        "\n",
        " 3) Use sklearn to implement K-NN; use GridSearchCV and RandomizedSearchCV to select hyper-parameters\n",
        "\n",
        " 4) Use sklearn to implement K-NN and mlxtend to plot the desicion boundary"
      ],
      "metadata": {
        "id": "v-OSBwtvOnas"
      }
    },
    {
      "cell_type": "markdown",
      "source": [
        "## 1) Create a K-NN model from scratch"
      ],
      "metadata": {
        "id": "kTIVll7dOkp4"
      }
    },
    {
      "cell_type": "code",
      "source": [
        "import numpy as np\n",
        "import pandas as pd\n",
        "import matplotlib.pyplot as plt\n",
        "import seaborn as sns\n",
        "\n",
        "from sklearn.model_selection import train_test_split"
      ],
      "metadata": {
        "id": "dubIb9oMkWns"
      },
      "execution_count": 1,
      "outputs": []
    },
    {
      "cell_type": "code",
      "source": [
        "df=pd.read_csv(\"/content/iris_dataset.csv\")"
      ],
      "metadata": {
        "id": "zPVaj7_wkWk2"
      },
      "execution_count": 2,
      "outputs": []
    },
    {
      "cell_type": "code",
      "source": [
        "df"
      ],
      "metadata": {
        "colab": {
          "base_uri": "https://localhost:8080/",
          "height": 423
        },
        "id": "XDo_bOYNkWh9",
        "outputId": "7a2590ab-9763-4c35-d528-e61c519ecd3b"
      },
      "execution_count": 3,
      "outputs": [
        {
          "output_type": "execute_result",
          "data": {
            "text/plain": [
              "     sepal_length  sepal_width  petal_length  petal_width    species\n",
              "0             5.1          3.5           1.4          0.2     setosa\n",
              "1             4.9          3.0           1.4          0.2     setosa\n",
              "2             4.7          3.2           1.3          0.2     setosa\n",
              "3             4.6          3.1           1.5          0.2     setosa\n",
              "4             5.0          3.6           1.4          0.2     setosa\n",
              "..            ...          ...           ...          ...        ...\n",
              "145           6.7          3.0           5.2          2.3  virginica\n",
              "146           6.3          2.5           5.0          1.9  virginica\n",
              "147           6.5          3.0           5.2          2.0  virginica\n",
              "148           6.2          3.4           5.4          2.3  virginica\n",
              "149           5.9          3.0           5.1          1.8  virginica\n",
              "\n",
              "[150 rows x 5 columns]"
            ],
            "text/html": [
              "\n",
              "  <div id=\"df-a3ae3eea-0e11-4372-9f1b-280feb969da9\" class=\"colab-df-container\">\n",
              "    <div>\n",
              "<style scoped>\n",
              "    .dataframe tbody tr th:only-of-type {\n",
              "        vertical-align: middle;\n",
              "    }\n",
              "\n",
              "    .dataframe tbody tr th {\n",
              "        vertical-align: top;\n",
              "    }\n",
              "\n",
              "    .dataframe thead th {\n",
              "        text-align: right;\n",
              "    }\n",
              "</style>\n",
              "<table border=\"1\" class=\"dataframe\">\n",
              "  <thead>\n",
              "    <tr style=\"text-align: right;\">\n",
              "      <th></th>\n",
              "      <th>sepal_length</th>\n",
              "      <th>sepal_width</th>\n",
              "      <th>petal_length</th>\n",
              "      <th>petal_width</th>\n",
              "      <th>species</th>\n",
              "    </tr>\n",
              "  </thead>\n",
              "  <tbody>\n",
              "    <tr>\n",
              "      <th>0</th>\n",
              "      <td>5.1</td>\n",
              "      <td>3.5</td>\n",
              "      <td>1.4</td>\n",
              "      <td>0.2</td>\n",
              "      <td>setosa</td>\n",
              "    </tr>\n",
              "    <tr>\n",
              "      <th>1</th>\n",
              "      <td>4.9</td>\n",
              "      <td>3.0</td>\n",
              "      <td>1.4</td>\n",
              "      <td>0.2</td>\n",
              "      <td>setosa</td>\n",
              "    </tr>\n",
              "    <tr>\n",
              "      <th>2</th>\n",
              "      <td>4.7</td>\n",
              "      <td>3.2</td>\n",
              "      <td>1.3</td>\n",
              "      <td>0.2</td>\n",
              "      <td>setosa</td>\n",
              "    </tr>\n",
              "    <tr>\n",
              "      <th>3</th>\n",
              "      <td>4.6</td>\n",
              "      <td>3.1</td>\n",
              "      <td>1.5</td>\n",
              "      <td>0.2</td>\n",
              "      <td>setosa</td>\n",
              "    </tr>\n",
              "    <tr>\n",
              "      <th>4</th>\n",
              "      <td>5.0</td>\n",
              "      <td>3.6</td>\n",
              "      <td>1.4</td>\n",
              "      <td>0.2</td>\n",
              "      <td>setosa</td>\n",
              "    </tr>\n",
              "    <tr>\n",
              "      <th>...</th>\n",
              "      <td>...</td>\n",
              "      <td>...</td>\n",
              "      <td>...</td>\n",
              "      <td>...</td>\n",
              "      <td>...</td>\n",
              "    </tr>\n",
              "    <tr>\n",
              "      <th>145</th>\n",
              "      <td>6.7</td>\n",
              "      <td>3.0</td>\n",
              "      <td>5.2</td>\n",
              "      <td>2.3</td>\n",
              "      <td>virginica</td>\n",
              "    </tr>\n",
              "    <tr>\n",
              "      <th>146</th>\n",
              "      <td>6.3</td>\n",
              "      <td>2.5</td>\n",
              "      <td>5.0</td>\n",
              "      <td>1.9</td>\n",
              "      <td>virginica</td>\n",
              "    </tr>\n",
              "    <tr>\n",
              "      <th>147</th>\n",
              "      <td>6.5</td>\n",
              "      <td>3.0</td>\n",
              "      <td>5.2</td>\n",
              "      <td>2.0</td>\n",
              "      <td>virginica</td>\n",
              "    </tr>\n",
              "    <tr>\n",
              "      <th>148</th>\n",
              "      <td>6.2</td>\n",
              "      <td>3.4</td>\n",
              "      <td>5.4</td>\n",
              "      <td>2.3</td>\n",
              "      <td>virginica</td>\n",
              "    </tr>\n",
              "    <tr>\n",
              "      <th>149</th>\n",
              "      <td>5.9</td>\n",
              "      <td>3.0</td>\n",
              "      <td>5.1</td>\n",
              "      <td>1.8</td>\n",
              "      <td>virginica</td>\n",
              "    </tr>\n",
              "  </tbody>\n",
              "</table>\n",
              "<p>150 rows × 5 columns</p>\n",
              "</div>\n",
              "    <div class=\"colab-df-buttons\">\n",
              "\n",
              "  <div class=\"colab-df-container\">\n",
              "    <button class=\"colab-df-convert\" onclick=\"convertToInteractive('df-a3ae3eea-0e11-4372-9f1b-280feb969da9')\"\n",
              "            title=\"Convert this dataframe to an interactive table.\"\n",
              "            style=\"display:none;\">\n",
              "\n",
              "  <svg xmlns=\"http://www.w3.org/2000/svg\" height=\"24px\" viewBox=\"0 -960 960 960\">\n",
              "    <path d=\"M120-120v-720h720v720H120Zm60-500h600v-160H180v160Zm220 220h160v-160H400v160Zm0 220h160v-160H400v160ZM180-400h160v-160H180v160Zm440 0h160v-160H620v160ZM180-180h160v-160H180v160Zm440 0h160v-160H620v160Z\"/>\n",
              "  </svg>\n",
              "    </button>\n",
              "\n",
              "  <style>\n",
              "    .colab-df-container {\n",
              "      display:flex;\n",
              "      gap: 12px;\n",
              "    }\n",
              "\n",
              "    .colab-df-convert {\n",
              "      background-color: #E8F0FE;\n",
              "      border: none;\n",
              "      border-radius: 50%;\n",
              "      cursor: pointer;\n",
              "      display: none;\n",
              "      fill: #1967D2;\n",
              "      height: 32px;\n",
              "      padding: 0 0 0 0;\n",
              "      width: 32px;\n",
              "    }\n",
              "\n",
              "    .colab-df-convert:hover {\n",
              "      background-color: #E2EBFA;\n",
              "      box-shadow: 0px 1px 2px rgba(60, 64, 67, 0.3), 0px 1px 3px 1px rgba(60, 64, 67, 0.15);\n",
              "      fill: #174EA6;\n",
              "    }\n",
              "\n",
              "    .colab-df-buttons div {\n",
              "      margin-bottom: 4px;\n",
              "    }\n",
              "\n",
              "    [theme=dark] .colab-df-convert {\n",
              "      background-color: #3B4455;\n",
              "      fill: #D2E3FC;\n",
              "    }\n",
              "\n",
              "    [theme=dark] .colab-df-convert:hover {\n",
              "      background-color: #434B5C;\n",
              "      box-shadow: 0px 1px 3px 1px rgba(0, 0, 0, 0.15);\n",
              "      filter: drop-shadow(0px 1px 2px rgba(0, 0, 0, 0.3));\n",
              "      fill: #FFFFFF;\n",
              "    }\n",
              "  </style>\n",
              "\n",
              "    <script>\n",
              "      const buttonEl =\n",
              "        document.querySelector('#df-a3ae3eea-0e11-4372-9f1b-280feb969da9 button.colab-df-convert');\n",
              "      buttonEl.style.display =\n",
              "        google.colab.kernel.accessAllowed ? 'block' : 'none';\n",
              "\n",
              "      async function convertToInteractive(key) {\n",
              "        const element = document.querySelector('#df-a3ae3eea-0e11-4372-9f1b-280feb969da9');\n",
              "        const dataTable =\n",
              "          await google.colab.kernel.invokeFunction('convertToInteractive',\n",
              "                                                    [key], {});\n",
              "        if (!dataTable) return;\n",
              "\n",
              "        const docLinkHtml = 'Like what you see? Visit the ' +\n",
              "          '<a target=\"_blank\" href=https://colab.research.google.com/notebooks/data_table.ipynb>data table notebook</a>'\n",
              "          + ' to learn more about interactive tables.';\n",
              "        element.innerHTML = '';\n",
              "        dataTable['output_type'] = 'display_data';\n",
              "        await google.colab.output.renderOutput(dataTable, element);\n",
              "        const docLink = document.createElement('div');\n",
              "        docLink.innerHTML = docLinkHtml;\n",
              "        element.appendChild(docLink);\n",
              "      }\n",
              "    </script>\n",
              "  </div>\n",
              "\n",
              "\n",
              "<div id=\"df-80255371-01b0-4242-a6c4-594ac68f9245\">\n",
              "  <button class=\"colab-df-quickchart\" onclick=\"quickchart('df-80255371-01b0-4242-a6c4-594ac68f9245')\"\n",
              "            title=\"Suggest charts\"\n",
              "            style=\"display:none;\">\n",
              "\n",
              "<svg xmlns=\"http://www.w3.org/2000/svg\" height=\"24px\"viewBox=\"0 0 24 24\"\n",
              "     width=\"24px\">\n",
              "    <g>\n",
              "        <path d=\"M19 3H5c-1.1 0-2 .9-2 2v14c0 1.1.9 2 2 2h14c1.1 0 2-.9 2-2V5c0-1.1-.9-2-2-2zM9 17H7v-7h2v7zm4 0h-2V7h2v10zm4 0h-2v-4h2v4z\"/>\n",
              "    </g>\n",
              "</svg>\n",
              "  </button>\n",
              "\n",
              "<style>\n",
              "  .colab-df-quickchart {\n",
              "      --bg-color: #E8F0FE;\n",
              "      --fill-color: #1967D2;\n",
              "      --hover-bg-color: #E2EBFA;\n",
              "      --hover-fill-color: #174EA6;\n",
              "      --disabled-fill-color: #AAA;\n",
              "      --disabled-bg-color: #DDD;\n",
              "  }\n",
              "\n",
              "  [theme=dark] .colab-df-quickchart {\n",
              "      --bg-color: #3B4455;\n",
              "      --fill-color: #D2E3FC;\n",
              "      --hover-bg-color: #434B5C;\n",
              "      --hover-fill-color: #FFFFFF;\n",
              "      --disabled-bg-color: #3B4455;\n",
              "      --disabled-fill-color: #666;\n",
              "  }\n",
              "\n",
              "  .colab-df-quickchart {\n",
              "    background-color: var(--bg-color);\n",
              "    border: none;\n",
              "    border-radius: 50%;\n",
              "    cursor: pointer;\n",
              "    display: none;\n",
              "    fill: var(--fill-color);\n",
              "    height: 32px;\n",
              "    padding: 0;\n",
              "    width: 32px;\n",
              "  }\n",
              "\n",
              "  .colab-df-quickchart:hover {\n",
              "    background-color: var(--hover-bg-color);\n",
              "    box-shadow: 0 1px 2px rgba(60, 64, 67, 0.3), 0 1px 3px 1px rgba(60, 64, 67, 0.15);\n",
              "    fill: var(--button-hover-fill-color);\n",
              "  }\n",
              "\n",
              "  .colab-df-quickchart-complete:disabled,\n",
              "  .colab-df-quickchart-complete:disabled:hover {\n",
              "    background-color: var(--disabled-bg-color);\n",
              "    fill: var(--disabled-fill-color);\n",
              "    box-shadow: none;\n",
              "  }\n",
              "\n",
              "  .colab-df-spinner {\n",
              "    border: 2px solid var(--fill-color);\n",
              "    border-color: transparent;\n",
              "    border-bottom-color: var(--fill-color);\n",
              "    animation:\n",
              "      spin 1s steps(1) infinite;\n",
              "  }\n",
              "\n",
              "  @keyframes spin {\n",
              "    0% {\n",
              "      border-color: transparent;\n",
              "      border-bottom-color: var(--fill-color);\n",
              "      border-left-color: var(--fill-color);\n",
              "    }\n",
              "    20% {\n",
              "      border-color: transparent;\n",
              "      border-left-color: var(--fill-color);\n",
              "      border-top-color: var(--fill-color);\n",
              "    }\n",
              "    30% {\n",
              "      border-color: transparent;\n",
              "      border-left-color: var(--fill-color);\n",
              "      border-top-color: var(--fill-color);\n",
              "      border-right-color: var(--fill-color);\n",
              "    }\n",
              "    40% {\n",
              "      border-color: transparent;\n",
              "      border-right-color: var(--fill-color);\n",
              "      border-top-color: var(--fill-color);\n",
              "    }\n",
              "    60% {\n",
              "      border-color: transparent;\n",
              "      border-right-color: var(--fill-color);\n",
              "    }\n",
              "    80% {\n",
              "      border-color: transparent;\n",
              "      border-right-color: var(--fill-color);\n",
              "      border-bottom-color: var(--fill-color);\n",
              "    }\n",
              "    90% {\n",
              "      border-color: transparent;\n",
              "      border-bottom-color: var(--fill-color);\n",
              "    }\n",
              "  }\n",
              "</style>\n",
              "\n",
              "  <script>\n",
              "    async function quickchart(key) {\n",
              "      const quickchartButtonEl =\n",
              "        document.querySelector('#' + key + ' button');\n",
              "      quickchartButtonEl.disabled = true;  // To prevent multiple clicks.\n",
              "      quickchartButtonEl.classList.add('colab-df-spinner');\n",
              "      try {\n",
              "        const charts = await google.colab.kernel.invokeFunction(\n",
              "            'suggestCharts', [key], {});\n",
              "      } catch (error) {\n",
              "        console.error('Error during call to suggestCharts:', error);\n",
              "      }\n",
              "      quickchartButtonEl.classList.remove('colab-df-spinner');\n",
              "      quickchartButtonEl.classList.add('colab-df-quickchart-complete');\n",
              "    }\n",
              "    (() => {\n",
              "      let quickchartButtonEl =\n",
              "        document.querySelector('#df-80255371-01b0-4242-a6c4-594ac68f9245 button');\n",
              "      quickchartButtonEl.style.display =\n",
              "        google.colab.kernel.accessAllowed ? 'block' : 'none';\n",
              "    })();\n",
              "  </script>\n",
              "</div>\n",
              "    </div>\n",
              "  </div>\n"
            ]
          },
          "metadata": {},
          "execution_count": 3
        }
      ]
    },
    {
      "cell_type": "code",
      "source": [
        "df1 = df[df.species==\"setosa\"]\n",
        "df2 = df[df.species==\"versicolor\"]\n",
        "df3 = df[df.species==\"virginica\"]\n",
        "\n",
        "plt.figure(figsize = (8, 6))\n",
        "\n",
        "plt.scatter(df1.sepal_length, df1.petal_length, color=\"red\", label =\"setosa\")\n",
        "plt.scatter(df2.sepal_length, df2.petal_length, color=\"blue\", label=\"versicolor\")\n",
        "plt.scatter(df3.sepal_length, df3.petal_length, color=\"green\", label=\"virginica\")\n",
        "plt.xlabel(\"sepal length\", fontsize=15)\n",
        "plt.ylabel(\"Petal length\", fontsize=15)\n",
        "plt.legend(fontsize=15);"
      ],
      "metadata": {
        "colab": {
          "base_uri": "https://localhost:8080/",
          "height": 548
        },
        "id": "Z-_SXQUNkWe9",
        "outputId": "a2fae65a-105d-451e-b096-21124b308df6"
      },
      "execution_count": 4,
      "outputs": [
        {
          "output_type": "display_data",
          "data": {
            "text/plain": [
              "<Figure size 800x600 with 1 Axes>"
            ],
            "image/png": "[encoded data removed]"
          },
          "metadata": {}
        }
      ]
    },
    {
      "cell_type": "code",
      "execution_count": 5,
      "metadata": {
        "id": "RJ8G8wqrkTqv"
      },
      "outputs": [],
      "source": [
        "X = df[[\"sepal_length\", \"sepal_width\"]].to_numpy()\n",
        "\n",
        "y = df[\"species\"].to_numpy()"
      ]
    },
    {
      "cell_type": "code",
      "source": [
        "X_train_full, X_test, y_train_full, y_test = train_test_split(X, y, test_size=0.2, random_state=42)\n",
        "\n",
        "X_train, X_valid, y_train, y_valid = train_test_split(X_train_full, y_train_full, test_size=0.25, random_state=42)"
      ],
      "metadata": {
        "id": "lPj1rclnkVOw"
      },
      "execution_count": 6,
      "outputs": []
    },
    {
      "cell_type": "code",
      "source": [
        "X_train.shape"
      ],
      "metadata": {
        "colab": {
          "base_uri": "https://localhost:8080/"
        },
        "id": "wbPkKoB8kVL3",
        "outputId": "0ec43f01-4841-4b4f-c38f-09fc80693ade"
      },
      "execution_count": 7,
      "outputs": [
        {
          "output_type": "execute_result",
          "data": {
            "text/plain": [
              "(90, 2)"
            ]
          },
          "metadata": {},
          "execution_count": 7
        }
      ]
    },
    {
      "cell_type": "code",
      "source": [
        "X_valid.shape"
      ],
      "metadata": {
        "colab": {
          "base_uri": "https://localhost:8080/"
        },
        "id": "FIGJYPPdkVJP",
        "outputId": "e3632831-96b3-4e40-a3f3-e38d52ccb465"
      },
      "execution_count": 8,
      "outputs": [
        {
          "output_type": "execute_result",
          "data": {
            "text/plain": [
              "(30, 2)"
            ]
          },
          "metadata": {},
          "execution_count": 8
        }
      ]
    },
    {
      "cell_type": "code",
      "source": [
        "X_test.shape"
      ],
      "metadata": {
        "colab": {
          "base_uri": "https://localhost:8080/"
        },
        "id": "0Bm1Lp9skVGE",
        "outputId": "39a18c7e-6264-4d9b-9385-ac8e8e1d1dcd"
      },
      "execution_count": 9,
      "outputs": [
        {
          "output_type": "execute_result",
          "data": {
            "text/plain": [
              "(30, 2)"
            ]
          },
          "metadata": {},
          "execution_count": 9
        }
      ]
    },
    {
      "cell_type": "code",
      "source": [
        "# Defining Euclidean distance function\n",
        "\n",
        "def distance(p, q):\n",
        "    return np.sqrt((p - q) @ (p - q))\n",
        "\n",
        "print(f\"The distance between X_train[0] and X_train[1] is {distance(X_train[0], X_train[1])}\")"
      ],
      "metadata": {
        "colab": {
          "base_uri": "https://localhost:8080/"
        },
        "id": "eJhao8bBkVDA",
        "outputId": "bb9d58e3-be96-4e0e-9cf4-05387812af25"
      },
      "execution_count": 10,
      "outputs": [
        {
          "output_type": "stream",
          "name": "stdout",
          "text": [
            "The distance between X_train[0] and X_train[1] is 3.026549190084311\n"
          ]
        }
      ]
    },
    {
      "cell_type": "code",
      "source": [
        "# defining a function that will create a list of k nearest neighbors from the training data set to a given test point\n",
        "# For each such neighbor, this list will store: features of that neighbor, its label, and its distance to the test point\n",
        "\n",
        "def k_nearest_neighbors(point,\n",
        "                        training_features,\n",
        "                        training_labels,\n",
        "                        k):\n",
        "\n",
        "    neighbors = []\n",
        "\n",
        "    for p, l in zip(training_features, training_labels):\n",
        "        d = distance(point, p)\n",
        "        info = [p, l, d]\n",
        "        neighbors.append(info)\n",
        "\n",
        "    neighbors.sort(key = lambda x : x[-1])\n",
        "\n",
        "    return neighbors[:k]"
      ],
      "metadata": {
        "id": "HUJSjWa2kU_j"
      },
      "execution_count": 11,
      "outputs": []
    },
    {
      "cell_type": "code",
      "source": [
        "# Check the k_nearest_neighbors function for a test data point\n",
        "\n",
        "k_nearest_neighbors(X_test[3], X_train, y_train, 7)"
      ],
      "metadata": {
        "colab": {
          "base_uri": "https://localhost:8080/"
        },
        "id": "oo5ZtMCWkU8e",
        "outputId": "65708d8d-af14-4092-bc1f-8ebb458e3a23"
      },
      "execution_count": 12,
      "outputs": [
        {
          "output_type": "execute_result",
          "data": {
            "text/plain": [
              "[[array([6.1, 2.9]), 'versicolor', 0.09999999999999964],\n",
              " [array([6.1, 3. ]), 'versicolor', 0.1414213562373093],\n",
              " [array([5.9, 3. ]), 'virginica', 0.1414213562373093],\n",
              " [array([6.1, 2.8]), 'versicolor', 0.1414213562373093],\n",
              " [array([5.9, 3. ]), 'versicolor', 0.1414213562373093],\n",
              " [array([6.2, 2.9]), 'versicolor', 0.20000000000000018],\n",
              " [array([5.8, 2.8]), 'virginica', 0.22360679774997916]]"
            ]
          },
          "metadata": {},
          "execution_count": 12
        }
      ]
    },
    {
      "cell_type": "code",
      "source": [
        "y_test[3]"
      ],
      "metadata": {
        "colab": {
          "base_uri": "https://localhost:8080/",
          "height": 35
        },
        "id": "n7rtTl4ukU5V",
        "outputId": "35031c96-93ee-4ce4-f758-881094330c90"
      },
      "execution_count": 13,
      "outputs": [
        {
          "output_type": "execute_result",
          "data": {
            "text/plain": [
              "'versicolor'"
            ],
            "application/vnd.google.colaboratory.intrinsic+json": {
              "type": "string"
            }
          },
          "metadata": {},
          "execution_count": 13
        }
      ]
    },
    {
      "cell_type": "code",
      "source": [
        "def knn_predict(point,\n",
        "                training_features,\n",
        "                training_labels,\n",
        "                k,\n",
        "                regression = False):\n",
        "\n",
        "    neighbors = k_nearest_neighbors(point,\n",
        "                                    training_features,\n",
        "                                    training_labels,\n",
        "                                    k)\n",
        "\n",
        "    labels = [x[1] for x in neighbors]\n",
        "\n",
        "    if regression == False:\n",
        "        return max(labels, key = labels.count)\n",
        "    else:\n",
        "        return sum(x[1] for x in labels)/k"
      ],
      "metadata": {
        "id": "DNLj5GQDkU2N"
      },
      "execution_count": 14,
      "outputs": []
    },
    {
      "cell_type": "code",
      "source": [
        "labels = ['setosa', 'setosa', 'virginica', 'setosa', 'virginica']\n",
        "max(labels, key = labels.count)"
      ],
      "metadata": {
        "colab": {
          "base_uri": "https://localhost:8080/",
          "height": 35
        },
        "id": "2fzWYqtvkUy2",
        "outputId": "dbd20b65-8bea-481c-fc85-420b74962f92"
      },
      "execution_count": 15,
      "outputs": [
        {
          "output_type": "execute_result",
          "data": {
            "text/plain": [
              "'setosa'"
            ],
            "application/vnd.google.colaboratory.intrinsic+json": {
              "type": "string"
            }
          },
          "metadata": {},
          "execution_count": 15
        }
      ]
    },
    {
      "cell_type": "code",
      "source": [
        "# Check this function\n",
        "\n",
        "knn_predict(X_test[3], X_train, y_train, 7)"
      ],
      "metadata": {
        "colab": {
          "base_uri": "https://localhost:8080/",
          "height": 35
        },
        "id": "rcPPkIrbkUvg",
        "outputId": "678e80db-bfe8-45dd-9c2c-b0cd13a546c9"
      },
      "execution_count": 16,
      "outputs": [
        {
          "output_type": "execute_result",
          "data": {
            "text/plain": [
              "'versicolor'"
            ],
            "application/vnd.google.colaboratory.intrinsic+json": {
              "type": "string"
            }
          },
          "metadata": {},
          "execution_count": 16
        }
      ]
    },
    {
      "cell_type": "code",
      "source": [
        "def accuracy(test_features,\n",
        "             test_labels,\n",
        "             training_features,\n",
        "             training_labels,\n",
        "             k):\n",
        "\n",
        "    correct = 0\n",
        "    for point, label in zip(test_features, test_labels):\n",
        "        correct += label == knn_predict(point,\n",
        "                                        training_features,\n",
        "                                        training_labels,\n",
        "                                        k)\n",
        "    return correct/len(test_features)"
      ],
      "metadata": {
        "id": "obM6iqQ5kUsl"
      },
      "execution_count": 17,
      "outputs": []
    },
    {
      "cell_type": "code",
      "source": [
        "# Check this function\n",
        "\n",
        "accuracy(X_valid, y_valid, X_train, y_train, 15)"
      ],
      "metadata": {
        "colab": {
          "base_uri": "https://localhost:8080/"
        },
        "id": "r_FR8HI3kUpM",
        "outputId": "5a10a59f-2273-46f8-d110-777c53c6297e"
      },
      "execution_count": 18,
      "outputs": [
        {
          "output_type": "execute_result",
          "data": {
            "text/plain": [
              "0.8"
            ]
          },
          "metadata": {},
          "execution_count": 18
        }
      ]
    },
    {
      "cell_type": "code",
      "source": [
        "k_values = [k for k in range(3, 50, 2)]\n",
        "accuracy_values = [accuracy(X_valid,\n",
        "                            y_valid,\n",
        "                            X_train,\n",
        "                            y_train, k) for k in k_values]\n",
        "\n",
        "plt.figure(figsize = (8, 6))\n",
        "\n",
        "plt.plot(k_values, accuracy_values, marker = \"o\")\n",
        "plt.title('Accuracy Score on the Validation Data')\n",
        "plt.xlabel('k')\n",
        "plt.ylabel('Accuracy')\n",
        "plt.xticks(k_values)\n",
        "plt.grid();"
      ],
      "metadata": {
        "colab": {
          "base_uri": "https://localhost:8080/",
          "height": 564
        },
        "id": "iBLj1R0JkUmJ",
        "outputId": "b51269c4-8048-4e9e-e3ef-64aec735e767"
      },
      "execution_count": 19,
      "outputs": [
        {
          "output_type": "display_data",
          "data": {
            "text/plain": [
              "<Figure size 800x600 with 1 Axes>"
            ],
            "image/png": "[encoded data removed]"
          },
          "metadata": {}
        }
      ]
    },
    {
      "cell_type": "code",
      "source": [
        "# choosing ofthe optimal value for k from the above graph,\n",
        "#  fit the model again on the training data and\n",
        "# report the error on the test data\n",
        "\n",
        "accuracy(X_test, y_test, X_train, y_train, 25)"
      ],
      "metadata": {
        "colab": {
          "base_uri": "https://localhost:8080/"
        },
        "id": "s7ePyvPlkUi8",
        "outputId": "a793e7f7-fd45-484a-bed7-50b7ada1dfb8"
      },
      "execution_count": 20,
      "outputs": [
        {
          "output_type": "execute_result",
          "data": {
            "text/plain": [
              "0.9"
            ]
          },
          "metadata": {},
          "execution_count": 20
        }
      ]
    },
    {
      "cell_type": "markdown",
      "source": [
        "## 2) Use sklearn to implement K-NN"
      ],
      "metadata": {
        "id": "nWJGeS4gMUoF"
      }
    },
    {
      "cell_type": "code",
      "source": [],
      "metadata": {
        "id": "iF0X0WhLMjlS"
      },
      "execution_count": null,
      "outputs": []
    },
    {
      "cell_type": "code",
      "source": [
        "from sklearn.neighbors import KNeighborsClassifier\n",
        "from sklearn.metrics import confusion_matrix, accuracy_score, classification_report\n",
        "\n",
        "X = df[[\"sepal_length\", \"petal_length\"]]\n",
        "y = df[\"species\"]"
      ],
      "metadata": {
        "id": "ZXegvXJTMQ1h"
      },
      "execution_count": 23,
      "outputs": []
    },
    {
      "cell_type": "code",
      "source": [
        "X_train_full, X_test, y_train_full, y_test = train_test_split(X, y, test_size=0.2, random_state=42)\n",
        "\n",
        "X_train, X_valid, y_train, y_valid = train_test_split(X_train_full, y_train_full, test_size=0.25, random_state=42)"
      ],
      "metadata": {
        "id": "rkqJBHXMMQy7"
      },
      "execution_count": 24,
      "outputs": []
    },
    {
      "cell_type": "code",
      "source": [
        "model = KNeighborsClassifier(n_neighbors=7)\n",
        "model.fit(X_train, y_train)"
      ],
      "metadata": {
        "colab": {
          "base_uri": "https://localhost:8080/",
          "height": 74
        },
        "id": "1ignllg3MQwE",
        "outputId": "71366415-9d93-403f-bf4e-94628c765d4a"
      },
      "execution_count": 25,
      "outputs": [
        {
          "output_type": "execute_result",
          "data": {
            "text/plain": [
              "KNeighborsClassifier(n_neighbors=7)"
            ],
            "text/html": [
              "<style>#sk-container-id-1 {color: black;background-color: white;}#sk-container-id-1 pre{padding: 0;}#sk-container-id-1 div.sk-toggleable {background-color: white;}#sk-container-id-1 label.sk-toggleable__label {cursor: pointer;display: block;width: 100%;margin-bottom: 0;padding: 0.3em;box-sizing: border-box;text-align: center;}#sk-container-id-1 label.sk-toggleable__label-arrow:before {content: \"▸\";float: left;margin-right: 0.25em;color: #696969;}#sk-container-id-1 label.sk-toggleable__label-arrow:hover:before {color: black;}#sk-container-id-1 div.sk-estimator:hover label.sk-toggleable__label-arrow:before {color: black;}#sk-container-id-1 div.sk-toggleable__content {max-height: 0;max-width: 0;overflow: hidden;text-align: left;background-color: #f0f8ff;}#sk-container-id-1 div.sk-toggleable__content pre {margin: 0.2em;color: black;border-radius: 0.25em;background-color: #f0f8ff;}#sk-container-id-1 input.sk-toggleable__control:checked~div.sk-toggleable__content {max-height: 200px;max-width: 100%;overflow: auto;}#sk-container-id-1 input.sk-toggleable__control:checked~label.sk-toggleable__label-arrow:before {content: \"▾\";}#sk-container-id-1 div.sk-estimator input.sk-toggleable__control:checked~label.sk-toggleable__label {background-color: #d4ebff;}#sk-container-id-1 div.sk-label input.sk-toggleable__control:checked~label.sk-toggleable__label {background-color: #d4ebff;}#sk-container-id-1 input.sk-hidden--visually {border: 0;clip: rect(1px 1px 1px 1px);clip: rect(1px, 1px, 1px, 1px);height: 1px;margin: -1px;overflow: hidden;padding: 0;position: absolute;width: 1px;}#sk-container-id-1 div.sk-estimator {font-family: monospace;background-color: #f0f8ff;border: 1px dotted black;border-radius: 0.25em;box-sizing: border-box;margin-bottom: 0.5em;}#sk-container-id-1 div.sk-estimator:hover {background-color: #d4ebff;}#sk-container-id-1 div.sk-parallel-item::after {content: \"\";width: 100%;border-bottom: 1px solid gray;flex-grow: 1;}#sk-container-id-1 div.sk-label:hover label.sk-toggleable__label {background-color: #d4ebff;}#sk-container-id-1 div.sk-serial::before {content: \"\";position: absolute;border-left: 1px solid gray;box-sizing: border-box;top: 0;bottom: 0;left: 50%;z-index: 0;}#sk-container-id-1 div.sk-serial {display: flex;flex-direction: column;align-items: center;background-color: white;padding-right: 0.2em;padding-left: 0.2em;position: relative;}#sk-container-id-1 div.sk-item {position: relative;z-index: 1;}#sk-container-id-1 div.sk-parallel {display: flex;align-items: stretch;justify-content: center;background-color: white;position: relative;}#sk-container-id-1 div.sk-item::before, #sk-container-id-1 div.sk-parallel-item::before {content: \"\";position: absolute;border-left: 1px solid gray;box-sizing: border-box;top: 0;bottom: 0;left: 50%;z-index: -1;}#sk-container-id-1 div.sk-parallel-item {display: flex;flex-direction: column;z-index: 1;position: relative;background-color: white;}#sk-container-id-1 div.sk-parallel-item:first-child::after {align-self: flex-end;width: 50%;}#sk-container-id-1 div.sk-parallel-item:last-child::after {align-self: flex-start;width: 50%;}#sk-container-id-1 div.sk-parallel-item:only-child::after {width: 0;}#sk-container-id-1 div.sk-dashed-wrapped {border: 1px dashed gray;margin: 0 0.4em 0.5em 0.4em;box-sizing: border-box;padding-bottom: 0.4em;background-color: white;}#sk-container-id-1 div.sk-label label {font-family: monospace;font-weight: bold;display: inline-block;line-height: 1.2em;}#sk-container-id-1 div.sk-label-container {text-align: center;}#sk-container-id-1 div.sk-container {/* jupyter's `normalize.less` sets `[hidden] { display: none; }` but bootstrap.min.css set `[hidden] { display: none !important; }` so we also need the `!important` here to be able to override the default hidden behavior on the sphinx rendered scikit-learn.org. See: https://github.com/scikit-learn/scikit-learn/issues/21755 */display: inline-block !important;position: relative;}#sk-container-id-1 div.sk-text-repr-fallback {display: none;}</style><div id=\"sk-container-id-1\" class=\"sk-top-container\"><div class=\"sk-text-repr-fallback\"><pre>KNeighborsClassifier(n_neighbors=7)</pre><b>In a Jupyter environment, please rerun this cell to show the HTML representation or trust the notebook. <br />On GitHub, the HTML representation is unable to render, please try loading this page with nbviewer.org.</b></div><div class=\"sk-container\" hidden><div class=\"sk-item\"><div class=\"sk-estimator sk-toggleable\"><input class=\"sk-toggleable__control sk-hidden--visually\" id=\"sk-estimator-id-1\" type=\"checkbox\" checked><label for=\"sk-estimator-id-1\" class=\"sk-toggleable__label sk-toggleable__label-arrow\">KNeighborsClassifier</label><div class=\"sk-toggleable__content\"><pre>KNeighborsClassifier(n_neighbors=7)</pre></div></div></div></div></div>"
            ]
          },
          "metadata": {},
          "execution_count": 25
        }
      ]
    },
    {
      "cell_type": "code",
      "source": [
        "y_pred = model.predict(X_valid)\n",
        "y_pred"
      ],
      "metadata": {
        "colab": {
          "base_uri": "https://localhost:8080/"
        },
        "id": "-ZPkMI0sMQtB",
        "outputId": "0c75ee42-af86-4bd2-8d03-ed2209d29734"
      },
      "execution_count": 26,
      "outputs": [
        {
          "output_type": "execute_result",
          "data": {
            "text/plain": [
              "array(['versicolor', 'versicolor', 'setosa', 'setosa', 'setosa',\n",
              "       'virginica', 'virginica', 'virginica', 'virginica', 'virginica',\n",
              "       'versicolor', 'virginica', 'versicolor', 'versicolor',\n",
              "       'versicolor', 'setosa', 'virginica', 'setosa', 'versicolor',\n",
              "       'setosa', 'versicolor', 'versicolor', 'setosa', 'setosa',\n",
              "       'virginica', 'versicolor', 'versicolor', 'setosa', 'virginica',\n",
              "       'virginica'], dtype=object)"
            ]
          },
          "metadata": {},
          "execution_count": 26
        }
      ]
    },
    {
      "cell_type": "code",
      "source": [
        "accuracy_score(y_valid, y_pred)"
      ],
      "metadata": {
        "colab": {
          "base_uri": "https://localhost:8080/"
        },
        "id": "zz0HyUOlMsYf",
        "outputId": "da828828-dfd3-478f-d629-0b9f8d19aee7"
      },
      "execution_count": 27,
      "outputs": [
        {
          "output_type": "execute_result",
          "data": {
            "text/plain": [
              "0.9333333333333333"
            ]
          },
          "metadata": {},
          "execution_count": 27
        }
      ]
    },
    {
      "cell_type": "code",
      "source": [
        "cm = confusion_matrix(y_valid, y_pred)\n",
        "cm"
      ],
      "metadata": {
        "colab": {
          "base_uri": "https://localhost:8080/"
        },
        "id": "lNvypANyLzIo",
        "outputId": "a68b23c8-4046-41a6-de1e-5d9f69e123e0"
      },
      "execution_count": 28,
      "outputs": [
        {
          "output_type": "execute_result",
          "data": {
            "text/plain": [
              "array([[ 9,  0,  0],\n",
              "       [ 0, 11,  2],\n",
              "       [ 0,  0,  8]])"
            ]
          },
          "metadata": {},
          "execution_count": 28
        }
      ]
    },
    {
      "cell_type": "code",
      "source": [
        "sns.heatmap(cm,\n",
        "           annot=True,\n",
        "           annot_kws={\"size\":15},\n",
        "           xticklabels=['setosa', 'versicolor', 'virginica'],\n",
        "           yticklabels=['setosa', 'versicolor', 'virginica'])\n",
        "plt.xlabel('Predicted')\n",
        "plt.ylabel('Actual');"
      ],
      "metadata": {
        "colab": {
          "base_uri": "https://localhost:8080/",
          "height": 449
        },
        "id": "zLDXVViakUfV",
        "outputId": "1b5d3d10-4c05-4d22-c676-3a57f3ba8718"
      },
      "execution_count": 29,
      "outputs": [
        {
          "output_type": "display_data",
          "data": {
            "text/plain": [
              "<Figure size 640x480 with 2 Axes>"
            ],
            "image/png": "[encoded data removed]"
          },
          "metadata": {}
        }
      ]
    },
    {
      "cell_type": "code",
      "source": [
        "print(classification_report(y_valid, y_pred))"
      ],
      "metadata": {
        "colab": {
          "base_uri": "https://localhost:8080/"
        },
        "id": "DPpo-lHUkUcI",
        "outputId": "ede031bc-b361-4c48-9639-51bf6104ae9f"
      },
      "execution_count": 30,
      "outputs": [
        {
          "output_type": "stream",
          "name": "stdout",
          "text": [
            "              precision    recall  f1-score   support\n",
            "\n",
            "      setosa       1.00      1.00      1.00         9\n",
            "  versicolor       1.00      0.85      0.92        13\n",
            "   virginica       0.80      1.00      0.89         8\n",
            "\n",
            "    accuracy                           0.93        30\n",
            "   macro avg       0.93      0.95      0.94        30\n",
            "weighted avg       0.95      0.93      0.93        30\n",
            "\n"
          ]
        }
      ]
    },
    {
      "cell_type": "code",
      "source": [
        "k_values = []\n",
        "acc_score = []\n",
        "\n",
        "for k in range(1, 50, 2):\n",
        "    model = KNeighborsClassifier(n_neighbors = k)\n",
        "    model.fit(X_train, y_train)\n",
        "    y_pred = model.predict(X_valid)\n",
        "    acc_score.append(accuracy_score(y_valid, y_pred))\n",
        "    k_values.append(k)\n",
        "\n",
        "\n",
        "plt.figure(figsize = (8, 6))\n",
        "\n",
        "plt.plot(k_values, acc_score, marker = \"o\")\n",
        "plt.title(\"Accuracy Score on the Validation Data\")\n",
        "plt.xlabel(\"k\")\n",
        "plt.ylabel(\"accuracy score\")\n",
        "plt.xticks(k_values)\n",
        "plt.grid();"
      ],
      "metadata": {
        "colab": {
          "base_uri": "https://localhost:8080/",
          "height": 564
        },
        "id": "CF4OpiiikUZB",
        "outputId": "0e8a4491-d731-464d-dfaa-691b5f6489ec"
      },
      "execution_count": 31,
      "outputs": [
        {
          "output_type": "display_data",
          "data": {
            "text/plain": [
              "<Figure size 800x600 with 1 Axes>"
            ],
            "image/png": "[encoded data removed]"
          },
          "metadata": {}
        }
      ]
    },
    {
      "cell_type": "code",
      "source": [
        "m = max(acc_score)\n",
        "m"
      ],
      "metadata": {
        "colab": {
          "base_uri": "https://localhost:8080/"
        },
        "id": "mAK5KZnskUWJ",
        "outputId": "2a084985-f534-485a-c85e-f71eb849f85c"
      },
      "execution_count": 32,
      "outputs": [
        {
          "output_type": "execute_result",
          "data": {
            "text/plain": [
              "0.9333333333333333"
            ]
          },
          "metadata": {},
          "execution_count": 32
        }
      ]
    },
    {
      "cell_type": "code",
      "source": [
        "k_values[acc_score.index(m)]"
      ],
      "metadata": {
        "colab": {
          "base_uri": "https://localhost:8080/"
        },
        "id": "rYzJSvvDkUSL",
        "outputId": "d195771b-84d5-4186-dd6a-3a074992299d"
      },
      "execution_count": 33,
      "outputs": [
        {
          "output_type": "execute_result",
          "data": {
            "text/plain": [
              "7"
            ]
          },
          "metadata": {},
          "execution_count": 33
        }
      ]
    },
    {
      "cell_type": "code",
      "source": [
        "model = KNeighborsClassifier(n_neighbors = 7)\n",
        "model.fit(X_train, y_train)\n",
        "y_pred = model.predict(X_test)\n",
        "accuracy_score(y_test, y_pred)"
      ],
      "metadata": {
        "colab": {
          "base_uri": "https://localhost:8080/"
        },
        "id": "JwpVYM9dM5x5",
        "outputId": "cd5a1258-4d1e-4a22-bb9a-b40844b23e6a"
      },
      "execution_count": 34,
      "outputs": [
        {
          "output_type": "execute_result",
          "data": {
            "text/plain": [
              "0.9666666666666667"
            ]
          },
          "metadata": {},
          "execution_count": 34
        }
      ]
    },
    {
      "cell_type": "markdown",
      "source": [
        "## 3) Use GridSearchCV and RandomizedSearchCV to select hyper-parameters"
      ],
      "metadata": {
        "id": "TyAws8bmNEZz"
      }
    },
    {
      "cell_type": "code",
      "source": [
        "from sklearn.model_selection import cross_val_score, GridSearchCV, RandomizedSearchCV"
      ],
      "metadata": {
        "id": "vHmQD05DM6yl"
      },
      "execution_count": 35,
      "outputs": []
    },
    {
      "cell_type": "code",
      "source": [
        "X = df[[\"sepal_length\", \"petal_length\"]]\n",
        "y = df[\"species\"]\n",
        "\n",
        "X_train, X_test, y_train, y_test = train_test_split(X, y, test_size=0.2, random_state=42)"
      ],
      "metadata": {
        "id": "bze_YUHyM6vC"
      },
      "execution_count": 36,
      "outputs": []
    },
    {
      "cell_type": "code",
      "source": [
        "cv_scores = cross_val_score(KNeighborsClassifier(n_neighbors=10),\n",
        "                            X_train,\n",
        "                            y_train,\n",
        "                            cv=5, # no shuffle, stratified for classifiers, default value 5\n",
        "                            #cv=KFold(n_splits=5, shuffle=True),\n",
        "                            #cv=StratifiedKFold(n_splits=5, shuffle=True),\n",
        "                            #cv=RepeatedKFold(n_splits=5, n_repeats=3),\n",
        "                            scoring='accuracy')\n",
        "\n",
        "cv_scores"
      ],
      "metadata": {
        "colab": {
          "base_uri": "https://localhost:8080/"
        },
        "id": "bA3m_wZxM6st",
        "outputId": "b44bd4bb-d8d1-47ea-9798-d54bd61efa82"
      },
      "execution_count": 37,
      "outputs": [
        {
          "output_type": "execute_result",
          "data": {
            "text/plain": [
              "array([1.        , 0.875     , 0.83333333, 0.95833333, 0.95833333])"
            ]
          },
          "metadata": {},
          "execution_count": 37
        }
      ]
    },
    {
      "cell_type": "code",
      "source": [
        "plt.plot(range(1, 6), cv_scores, marker='o')\n",
        "plt.ylim(0, 1)\n",
        "plt.ylabel('Accuracy score', fontsize=15)\n",
        "plt.xlabel('Fold', fontsize=15)\n",
        "plt.xticks(range(1,6))\n",
        "\n",
        "print(np.round(cv_scores,2))\n",
        "print('Average accuracy:', cv_scores.mean())\n",
        "print('Accuracy standard deviation:', cv_scores.std());"
      ],
      "metadata": {
        "colab": {
          "base_uri": "https://localhost:8080/",
          "height": 513
        },
        "id": "EcrcmIWLM6pt",
        "outputId": "21e3dae8-c47e-4d9e-a2d8-91ccc57558c5"
      },
      "execution_count": 38,
      "outputs": [
        {
          "output_type": "stream",
          "name": "stdout",
          "text": [
            "[1.   0.88 0.83 0.96 0.96]\n",
            "Average accuracy: 0.925\n",
            "Accuracy standard deviation: 0.06123724356957946\n"
          ]
        },
        {
          "output_type": "display_data",
          "data": {
            "text/plain": [
              "<Figure size 640x480 with 1 Axes>"
            ],
            "image/png": "[encoded data removed]"
          },
          "metadata": {}
        }
      ]
    },
    {
      "cell_type": "code",
      "source": [
        "gs = GridSearchCV(estimator = KNeighborsClassifier(),\n",
        "                  param_grid = {\"n_neighbors\": range(1,51),\n",
        "                                \"weights\": ['uniform', 'distance'],\n",
        "                                \"p\": [1,2]},\n",
        "                  cv=5)\n",
        "\n",
        "gs.fit(X_train, y_train)\n",
        "\n",
        "gs.cv_results_"
      ],
      "metadata": {
        "colab": {
          "base_uri": "https://localhost:8080/"
        },
        "id": "DxUwLj7INO6e",
        "outputId": "0cc3ea70-d920-499f-dd1e-979f7b60eed3"
      },
      "execution_count": 39,
      "outputs": [
        {
          "output_type": "execute_result",
          "data": {
            "text/plain": [
              "{'mean_fit_time': array([0.00403547, 0.00370655, 0.0038238 , 0.00318093, 0.00427036,\n",
              "        0.00364461, 0.00368252, 0.00369358, 0.00374384, 0.00353203,\n",
              "        0.00476742, 0.00347548, 0.00403872, 0.00375309, 0.00393963,\n",
              "        0.00369334, 0.00367732, 0.00350523, 0.00381532, 0.00439806,\n",
              "        0.0040556 , 0.0036262 , 0.00384994, 0.00378261, 0.00379834,\n",
              "        0.00356956, 0.00331426, 0.00360847, 0.00356603, 0.0035531 ,\n",
              "        0.00401177, 0.00355105, 0.00377393, 0.00431018, 0.00432754,\n",
              "        0.00401006, 0.00369816, 0.00365696, 0.00379052, 0.00361657,\n",
              "        0.00360389, 0.00359335, 0.00358028, 0.00519919, 0.00392137,\n",
              "        0.00350599, 0.00356793, 0.00347252, 0.00498233, 0.01483574,\n",
              "        0.01121645, 0.00711036, 0.00667634, 0.00209298, 0.00199227,\n",
              "        0.0018837 , 0.00204124, 0.0019206 , 0.00199003, 0.00210547,\n",
              "        0.00270824, 0.00245538, 0.00206051, 0.00263886, 0.00221767,\n",
              "        0.0020709 , 0.00208731, 0.00195556, 0.00206766, 0.00190673,\n",
              "        0.00194268, 0.00190334, 0.00199556, 0.00186105, 0.00201592,\n",
              "        0.00193882, 0.00279951, 0.00195484, 0.00192447, 0.00190334,\n",
              "        0.0019577 , 0.00195384, 0.00199065, 0.00212307, 0.00233827,\n",
              "        0.00195947, 0.00215921, 0.00228963, 0.00233727, 0.00190258,\n",
              "        0.0019733 , 0.00194244, 0.00210147, 0.00193658, 0.00200667,\n",
              "        0.00226045, 0.00193534, 0.0019134 , 0.00188398, 0.00218534,\n",
              "        0.00184898, 0.00193253, 0.00200181, 0.00196028, 0.00239739,\n",
              "        0.00238628, 0.00202503, 0.00210805, 0.00219398, 0.0019412 ,\n",
              "        0.0019908 , 0.00284791, 0.00199671, 0.00188103, 0.00182357,\n",
              "        0.00187154, 0.00193701, 0.00229425, 0.00205498, 0.0019485 ,\n",
              "        0.00204353, 0.00194902, 0.00198545, 0.00190926, 0.00190406,\n",
              "        0.00187049, 0.00196996, 0.00190477, 0.00224767, 0.00194125,\n",
              "        0.00205035, 0.00200133, 0.00197272, 0.00210729, 0.00201974,\n",
              "        0.00189929, 0.00221195, 0.00217686, 0.00202975, 0.00203304,\n",
              "        0.00196457, 0.00190277, 0.00202465, 0.0018795 , 0.00200329,\n",
              "        0.00203953, 0.00186663, 0.00235639, 0.00231533, 0.00186157,\n",
              "        0.0018786 , 0.00191894, 0.00190201, 0.0018312 , 0.00208321,\n",
              "        0.00193887, 0.00197806, 0.00185723, 0.00186815, 0.00193992,\n",
              "        0.00188198, 0.00208941, 0.00181332, 0.00185571, 0.00188432,\n",
              "        0.00186186, 0.0020267 , 0.00190835, 0.00198345, 0.00204759,\n",
              "        0.00204062, 0.00189056, 0.00205173, 0.00196891, 0.00211644,\n",
              "        0.00204778, 0.00193295, 0.00194016, 0.0019526 , 0.0019505 ,\n",
              "        0.00203519, 0.00256371, 0.00200062, 0.00207872, 0.00266771,\n",
              "        0.00206218, 0.00194092, 0.00188017, 0.00214658, 0.00209355,\n",
              "        0.00237112, 0.00356536, 0.00454106, 0.00603056, 0.00718474,\n",
              "        0.00302024, 0.0060081 , 0.00724397, 0.00410519, 0.00216761]),\n",
              " 'std_fit_time': array([1.38120391e-04, 4.58745688e-04, 8.12777853e-05, 3.25220959e-04,\n",
              "        1.12036798e-03, 1.26775712e-04, 1.18584963e-04, 5.82842995e-04,\n",
              "        1.10679071e-04, 1.13887302e-04, 2.22671752e-03, 2.50001834e-04,\n",
              "        3.50419014e-04, 4.76531136e-04, 2.60241147e-04, 2.18694229e-04,\n",
              "        1.78875048e-04, 1.75742409e-04, 2.36840442e-04, 1.25656973e-03,\n",
              "        2.21186024e-04, 1.94264863e-04, 2.30359799e-04, 4.51237773e-04,\n",
              "        1.43592019e-04, 1.06197256e-04, 1.23557424e-04, 1.56948327e-04,\n",
              "        3.07868721e-04, 1.31189194e-04, 4.71740223e-04, 1.92448157e-04,\n",
              "        2.01946194e-04, 9.21771374e-04, 8.65683868e-04, 1.03912794e-03,\n",
              "        1.34226094e-04, 1.35686491e-04, 2.51037832e-04, 9.29998725e-05,\n",
              "        1.75408773e-04, 9.01795513e-05, 1.15923948e-04, 3.47930338e-03,\n",
              "        9.40662447e-04, 2.58140384e-04, 2.55205947e-04, 4.03075315e-04,\n",
              "        2.90102796e-03, 6.32398748e-03, 5.79065405e-03, 4.00919524e-03,\n",
              "        4.33168590e-03, 1.70593023e-04, 6.18851969e-05, 2.68673092e-05,\n",
              "        1.02723009e-04, 3.43804551e-05, 6.79576434e-05, 3.94069519e-04,\n",
              "        4.13379959e-04, 8.46247729e-05, 2.96420940e-05, 1.31024016e-03,\n",
              "        2.39831391e-04, 1.74604264e-04, 1.11026942e-04, 5.84391903e-05,\n",
              "        1.28940030e-04, 4.81505431e-05, 4.32671328e-05, 4.10311101e-05,\n",
              "        1.19814955e-04, 6.60123139e-05, 6.06120990e-05, 6.27219425e-05,\n",
              "        5.42368175e-04, 3.44167438e-05, 2.27258809e-05, 8.84671599e-05,\n",
              "        9.83105243e-05, 3.34259107e-05, 3.08534645e-05, 2.81826066e-04,\n",
              "        3.14233683e-04, 1.03226335e-04, 2.07064558e-04, 2.74842113e-04,\n",
              "        5.29847461e-04, 5.74059262e-05, 7.58522780e-05, 3.49841875e-05,\n",
              "        5.30637279e-05, 4.51314720e-05, 4.61657671e-05, 5.27522149e-04,\n",
              "        3.49523914e-05, 4.39308084e-05, 4.69579298e-05, 4.41421656e-04,\n",
              "        4.48050363e-05, 9.89439516e-05, 6.79753739e-05, 3.82050430e-05,\n",
              "        1.92342457e-04, 2.00475940e-04, 1.99761229e-04, 3.72580930e-04,\n",
              "        4.80585846e-04, 9.79570231e-05, 6.68075916e-05, 5.60869013e-04,\n",
              "        5.16937226e-05, 6.08703878e-05, 3.85585870e-05, 4.46611904e-05,\n",
              "        8.76424362e-05, 4.33943020e-04, 2.22514485e-04, 1.66934117e-04,\n",
              "        4.57707541e-05, 5.69796262e-05, 1.15213429e-04, 5.42021450e-05,\n",
              "        5.82854972e-05, 2.47352123e-05, 1.87306868e-04, 5.35603822e-05,\n",
              "        5.31495595e-04, 7.29338606e-05, 1.55856134e-04, 1.30713181e-04,\n",
              "        9.88141211e-05, 2.65190687e-04, 1.35128668e-04, 6.05174550e-05,\n",
              "        1.92628555e-04, 1.94912553e-04, 1.81445004e-04, 3.34370082e-04,\n",
              "        1.51127217e-04, 7.68134786e-05, 2.16347015e-04, 4.73766933e-05,\n",
              "        1.46633171e-04, 1.76587073e-04, 2.06451217e-05, 5.95866779e-04,\n",
              "        4.13759200e-04, 6.59228018e-05, 4.87866635e-05, 5.69289651e-05,\n",
              "        2.34289657e-05, 2.45525300e-05, 2.03076017e-04, 6.10344857e-05,\n",
              "        7.36170170e-05, 5.76510520e-05, 6.09974447e-05, 1.78029220e-04,\n",
              "        4.43249828e-05, 3.95824406e-04, 4.30923626e-05, 1.84392380e-05,\n",
              "        3.63053178e-05, 1.23604801e-05, 7.71574389e-05, 6.01362176e-05,\n",
              "        1.04344827e-04, 2.75681761e-04, 2.06988304e-04, 8.15668394e-05,\n",
              "        2.42348919e-04, 8.90270937e-05, 2.73774426e-04, 1.53986290e-04,\n",
              "        6.81012279e-05, 6.32014511e-05, 1.10687802e-04, 1.05189023e-04,\n",
              "        8.23962192e-05, 4.49919220e-04, 1.84223825e-04, 3.84029455e-04,\n",
              "        4.48091273e-04, 2.19752441e-04, 8.45478673e-05, 1.07316437e-04,\n",
              "        2.29940183e-04, 1.47943829e-04, 1.41574020e-04, 2.09346966e-03,\n",
              "        2.58787264e-03, 3.68144567e-03, 5.45901036e-03, 1.26356845e-04,\n",
              "        2.81479933e-03, 2.51260944e-03, 1.69758764e-03, 4.89081532e-05]),\n",
              " 'mean_score_time': array([0.0074914 , 0.00387716, 0.00740085, 0.00342727, 0.00698056,\n",
              "        0.0046031 , 0.00731125, 0.00367494, 0.00707192, 0.00389643,\n",
              "        0.0073494 , 0.0049633 , 0.00750995, 0.00380702, 0.00743666,\n",
              "        0.00389934, 0.0071918 , 0.00387177, 0.00727987, 0.0040163 ,\n",
              "        0.00739474, 0.00393643, 0.00774422, 0.00395699, 0.00850248,\n",
              "        0.00414381, 0.00682325, 0.00385261, 0.00690327, 0.00388179,\n",
              "        0.00717115, 0.00405941, 0.00770483, 0.00526924, 0.00845027,\n",
              "        0.00392809, 0.00721202, 0.00396786, 0.00815654, 0.00392413,\n",
              "        0.00713673, 0.00383406, 0.00751796, 0.00381203, 0.00688834,\n",
              "        0.00381241, 0.0074966 , 0.00484571, 0.01317286, 0.01231914,\n",
              "        0.02599363, 0.01067185, 0.01274786, 0.00227695, 0.00400772,\n",
              "        0.00225792, 0.00408692, 0.00218167, 0.00398078, 0.00239801,\n",
              "        0.00645137, 0.00305099, 0.00422869, 0.00251627, 0.00476532,\n",
              "        0.00235143, 0.00418205, 0.00229139, 0.00425158, 0.00221605,\n",
              "        0.00395694, 0.00222874, 0.00396843, 0.00212979, 0.00396814,\n",
              "        0.00222306, 0.00527244, 0.00227809, 0.00393367, 0.00218797,\n",
              "        0.0040307 , 0.00225024, 0.00474768, 0.00263405, 0.00493827,\n",
              "        0.00226083, 0.0043335 , 0.00269132, 0.00454426, 0.00221548,\n",
              "        0.0039948 , 0.0022397 , 0.00422745, 0.00226007, 0.00399094,\n",
              "        0.00245519, 0.00390096, 0.00226383, 0.00406561, 0.00285468,\n",
              "        0.00384598, 0.00227733, 0.0040678 , 0.00228181, 0.00557818,\n",
              "        0.00323038, 0.00399156, 0.00245013, 0.00458484, 0.00234575,\n",
              "        0.00413013, 0.00336118, 0.00399885, 0.00221734, 0.00386038,\n",
              "        0.00220237, 0.00402455, 0.00251784, 0.00469556, 0.00230384,\n",
              "        0.00406599, 0.00226398, 0.00402336, 0.00226731, 0.00387192,\n",
              "        0.00217052, 0.00397849, 0.00285931, 0.00422235, 0.00227017,\n",
              "        0.00454168, 0.00225449, 0.00406537, 0.00231581, 0.00410099,\n",
              "        0.00223246, 0.00443411, 0.00331564, 0.00427699, 0.00242724,\n",
              "        0.00399232, 0.00227871, 0.00402269, 0.00217953, 0.00400267,\n",
              "        0.00238967, 0.00390043, 0.00311127, 0.00445042, 0.00222182,\n",
              "        0.00400791, 0.00226974, 0.00395117, 0.00220199, 0.00470753,\n",
              "        0.00228896, 0.00401301, 0.0022038 , 0.0040442 , 0.00237722,\n",
              "        0.00391378, 0.00255694, 0.00385623, 0.00224843, 0.00393062,\n",
              "        0.00226846, 0.00445695, 0.00228777, 0.00459838, 0.00234599,\n",
              "        0.00409617, 0.00226827, 0.00426326, 0.00238113, 0.00427709,\n",
              "        0.00245728, 0.00418978, 0.00234642, 0.00401549, 0.00233483,\n",
              "        0.00445666, 0.00357509, 0.00400786, 0.00251546, 0.00556026,\n",
              "        0.0024807 , 0.0039732 , 0.00224013, 0.00580182, 0.00289645,\n",
              "        0.00877542, 0.01247077, 0.01549392, 0.04518876, 0.07634292,\n",
              "        0.10390897, 0.01356726, 0.03984842, 0.02043591, 0.00312648]),\n",
              " 'std_score_time': array([1.59453761e-04, 2.76532541e-04, 2.06722993e-04, 2.06199076e-04,\n",
              "        4.59068906e-04, 1.46905675e-03, 2.12234889e-04, 1.63589299e-04,\n",
              "        1.74593351e-04, 1.76330513e-04, 2.25346783e-04, 1.92523301e-03,\n",
              "        7.88272211e-04, 1.41633351e-04, 5.83768864e-04, 1.09651294e-04,\n",
              "        1.16227685e-04, 6.67968019e-05, 3.35904449e-04, 1.49621638e-04,\n",
              "        1.32890709e-04, 1.07627713e-04, 4.30300520e-04, 7.24607996e-05,\n",
              "        2.57718218e-03, 6.55518928e-04, 1.10246516e-03, 1.13995899e-04,\n",
              "        3.68168734e-04, 1.40522268e-04, 1.50239047e-04, 6.84926769e-04,\n",
              "        3.15976480e-04, 2.67989295e-03, 1.69585322e-03, 9.38350348e-05,\n",
              "        3.84416926e-04, 9.39899866e-05, 1.30196003e-03, 1.70184979e-04,\n",
              "        4.95691494e-04, 1.54196073e-04, 1.08783268e-03, 8.09936232e-05,\n",
              "        2.87619636e-04, 2.38039507e-04, 1.05870537e-03, 2.48687392e-03,\n",
              "        4.28565426e-03, 5.17184094e-03, 7.88907173e-03, 4.96846011e-03,\n",
              "        5.99932522e-03, 6.52149386e-05, 7.74053153e-05, 1.46205349e-04,\n",
              "        1.56739311e-04, 4.11230514e-05, 7.76153512e-05, 3.28424444e-04,\n",
              "        1.85431113e-04, 2.79582862e-04, 3.79538374e-04, 2.06477262e-04,\n",
              "        9.75477831e-04, 1.15974659e-04, 2.05583429e-04, 1.30128362e-04,\n",
              "        3.33456033e-04, 3.72746385e-05, 7.73813715e-05, 5.63711475e-05,\n",
              "        1.20689491e-04, 7.85776421e-05, 5.43507770e-05, 5.58380995e-05,\n",
              "        1.11062106e-03, 8.67092678e-05, 7.05997631e-05, 4.80695847e-05,\n",
              "        5.09785533e-05, 3.29498962e-05, 1.51122620e-03, 6.68185344e-04,\n",
              "        1.31113742e-03, 7.36275175e-05, 2.56853061e-04, 5.17385135e-04,\n",
              "        6.23711916e-04, 1.63532205e-05, 1.02654148e-04, 3.45794075e-05,\n",
              "        1.36902963e-04, 7.48762800e-05, 3.29895507e-05, 2.89777570e-04,\n",
              "        6.35669539e-05, 1.02498740e-04, 4.05587596e-04, 8.36630649e-04,\n",
              "        3.91754157e-05, 9.75432618e-05, 6.19021323e-05, 3.88666455e-05,\n",
              "        1.23001155e-03, 6.60859994e-04, 1.65210169e-04, 2.73796998e-04,\n",
              "        1.05550264e-03, 1.76663978e-04, 1.96655703e-04, 5.60697431e-04,\n",
              "        7.51515028e-05, 5.30437993e-05, 5.57270674e-05, 3.78088870e-05,\n",
              "        2.29514975e-04, 3.65723115e-04, 1.22490410e-03, 1.36384847e-04,\n",
              "        1.06287313e-04, 4.69943280e-05, 4.64213647e-05, 9.65151155e-05,\n",
              "        6.38746467e-05, 2.24095202e-05, 9.52604409e-05, 1.24625585e-03,\n",
              "        2.17737516e-04, 6.65790702e-05, 6.49167417e-04, 6.25905761e-05,\n",
              "        9.68091705e-05, 1.48793244e-04, 1.02787932e-04, 6.24126107e-05,\n",
              "        1.37403173e-04, 5.72162396e-04, 4.48074340e-04, 3.82272073e-04,\n",
              "        1.31962907e-04, 7.72978772e-05, 1.09732301e-04, 5.49776080e-05,\n",
              "        1.20332632e-04, 1.46741861e-04, 1.06164942e-04, 5.62911922e-04,\n",
              "        4.30895201e-04, 6.69919722e-05, 1.39651643e-04, 3.40623310e-05,\n",
              "        5.14720478e-05, 4.82042983e-05, 1.06667253e-03, 1.08979315e-04,\n",
              "        5.31251809e-05, 4.42448871e-05, 2.26980428e-04, 2.07146283e-04,\n",
              "        9.23165359e-05, 3.64828188e-04, 4.67692911e-05, 8.41171833e-05,\n",
              "        4.88839259e-05, 4.46892334e-05, 6.73141533e-04, 8.53917501e-05,\n",
              "        7.83749026e-04, 1.50478082e-04, 1.96276079e-04, 6.60376255e-05,\n",
              "        1.62542842e-04, 1.33525422e-04, 3.39403083e-04, 1.43644026e-04,\n",
              "        2.61973979e-04, 4.14973273e-05, 9.69932259e-05, 3.16024703e-05,\n",
              "        4.42438763e-04, 9.63418308e-04, 1.35984929e-04, 1.59826298e-04,\n",
              "        1.03061973e-03, 1.72222426e-04, 4.66217518e-05, 7.23969155e-05,\n",
              "        1.05656463e-03, 8.15955463e-05, 3.18519990e-03, 7.08203653e-03,\n",
              "        1.08187430e-02, 7.66023516e-03, 1.14124338e-02, 8.23269739e-03,\n",
              "        3.00487473e-03, 4.20652199e-03, 1.43381780e-02, 2.82163528e-05]),\n",
              " 'param_n_neighbors': masked_array(data=[1, 1, 1, 1, 2, 2, 2, 2, 3, 3, 3, 3, 4, 4, 4, 4, 5, 5,\n",
              "                    5, 5, 6, 6, 6, 6, 7, 7, 7, 7, 8, 8, 8, 8, 9, 9, 9, 9,\n",
              "                    10, 10, 10, 10, 11, 11, 11, 11, 12, 12, 12, 12, 13, 13,\n",
              "                    13, 13, 14, 14, 14, 14, 15, 15, 15, 15, 16, 16, 16, 16,\n",
              "                    17, 17, 17, 17, 18, 18, 18, 18, 19, 19, 19, 19, 20, 20,\n",
              "                    20, 20, 21, 21, 21, 21, 22, 22, 22, 22, 23, 23, 23, 23,\n",
              "                    24, 24, 24, 24, 25, 25, 25, 25, 26, 26, 26, 26, 27, 27,\n",
              "                    27, 27, 28, 28, 28, 28, 29, 29, 29, 29, 30, 30, 30, 30,\n",
              "                    31, 31, 31, 31, 32, 32, 32, 32, 33, 33, 33, 33, 34, 34,\n",
              "                    34, 34, 35, 35, 35, 35, 36, 36, 36, 36, 37, 37, 37, 37,\n",
              "                    38, 38, 38, 38, 39, 39, 39, 39, 40, 40, 40, 40, 41, 41,\n",
              "                    41, 41, 42, 42, 42, 42, 43, 43, 43, 43, 44, 44, 44, 44,\n",
              "                    45, 45, 45, 45, 46, 46, 46, 46, 47, 47, 47, 47, 48, 48,\n",
              "                    48, 48, 49, 49, 49, 49, 50, 50, 50, 50],\n",
              "              mask=[False, False, False, False, False, False, False, False,\n",
              "                    False, False, False, False, False, False, False, False,\n",
              "                    False, False, False, False, False, False, False, False,\n",
              "                    False, False, False, False, False, False, False, False,\n",
              "                    False, False, False, False, False, False, False, False,\n",
              "                    False, False, False, False, False, False, False, False,\n",
              "                    False, False, False, False, False, False, False, False,\n",
              "                    False, False, False, False, False, False, False, False,\n",
              "                    False, False, False, False, False, False, False, False,\n",
              "                    False, False, False, False, False, False, False, False,\n",
              "                    False, False, False, False, False, False, False, False,\n",
              "                    False, False, False, False, False, False, False, False,\n",
              "                    False, False, False, False, False, False, False, False,\n",
              "                    False, False, False, False, False, False, False, False,\n",
              "                    False, False, False, False, False, False, False, False,\n",
              "                    False, False, False, False, False, False, False, False,\n",
              "                    False, False, False, False, False, False, False, False,\n",
              "                    False, False, False, False, False, False, False, False,\n",
              "                    False, False, False, False, False, False, False, False,\n",
              "                    False, False, False, False, False, False, False, False,\n",
              "                    False, False, False, False, False, False, False, False,\n",
              "                    False, False, False, False, False, False, False, False,\n",
              "                    False, False, False, False, False, False, False, False,\n",
              "                    False, False, False, False, False, False, False, False,\n",
              "                    False, False, False, False, False, False, False, False],\n",
              "        fill_value='?',\n",
              "             dtype=object),\n",
              " 'param_p': masked_array(data=[1, 1, 2, 2, 1, 1, 2, 2, 1, 1, 2, 2, 1, 1, 2, 2, 1, 1,\n",
              "                    2, 2, 1, 1, 2, 2, 1, 1, 2, 2, 1, 1, 2, 2, 1, 1, 2, 2,\n",
              "                    1, 1, 2, 2, 1, 1, 2, 2, 1, 1, 2, 2, 1, 1, 2, 2, 1, 1,\n",
              "                    2, 2, 1, 1, 2, 2, 1, 1, 2, 2, 1, 1, 2, 2, 1, 1, 2, 2,\n",
              "                    1, 1, 2, 2, 1, 1, 2, 2, 1, 1, 2, 2, 1, 1, 2, 2, 1, 1,\n",
              "                    2, 2, 1, 1, 2, 2, 1, 1, 2, 2, 1, 1, 2, 2, 1, 1, 2, 2,\n",
              "                    1, 1, 2, 2, 1, 1, 2, 2, 1, 1, 2, 2, 1, 1, 2, 2, 1, 1,\n",
              "                    2, 2, 1, 1, 2, 2, 1, 1, 2, 2, 1, 1, 2, 2, 1, 1, 2, 2,\n",
              "                    1, 1, 2, 2, 1, 1, 2, 2, 1, 1, 2, 2, 1, 1, 2, 2, 1, 1,\n",
              "                    2, 2, 1, 1, 2, 2, 1, 1, 2, 2, 1, 1, 2, 2, 1, 1, 2, 2,\n",
              "                    1, 1, 2, 2, 1, 1, 2, 2, 1, 1, 2, 2, 1, 1, 2, 2, 1, 1,\n",
              "                    2, 2],\n",
              "              mask=[False, False, False, False, False, False, False, False,\n",
              "                    False, False, False, False, False, False, False, False,\n",
              "                    False, False, False, False, False, False, False, False,\n",
              "                    False, False, False, False, False, False, False, False,\n",
              "                    False, False, False, False, False, False, False, False,\n",
              "                    False, False, False, False, False, False, False, False,\n",
              "                    False, False, False, False, False, False, False, False,\n",
              "                    False, False, False, False, False, False, False, False,\n",
              "                    False, False, False, False, False, False, False, False,\n",
              "                    False, False, False, False, False, False, False, False,\n",
              "                    False, False, False, False, False, False, False, False,\n",
              "                    False, False, False, False, False, False, False, False,\n",
              "                    False, False, False, False, False, False, False, False,\n",
              "                    False, False, False, False, False, False, False, False,\n",
              "                    False, False, False, False, False, False, False, False,\n",
              "                    False, False, False, False, False, False, False, False,\n",
              "                    False, False, False, False, False, False, False, False,\n",
              "                    False, False, False, False, False, False, False, False,\n",
              "                    False, False, False, False, False, False, False, False,\n",
              "                    False, False, False, False, False, False, False, False,\n",
              "                    False, False, False, False, False, False, False, False,\n",
              "                    False, False, False, False, False, False, False, False,\n",
              "                    False, False, False, False, False, False, False, False,\n",
              "                    False, False, False, False, False, False, False, False,\n",
              "                    False, False, False, False, False, False, False, False],\n",
              "        fill_value='?',\n",
              "             dtype=object),\n",
              " 'param_weights': masked_array(data=['uniform', 'distance', 'uniform', 'distance',\n",
              "                    'uniform', 'distance', 'uniform', 'distance',\n",
              "                    'uniform', 'distance', 'uniform', 'distance',\n",
              "                    'uniform', 'distance', 'uniform', 'distance',\n",
              "                    'uniform', 'distance', 'uniform', 'distance',\n",
              "                    'uniform', 'distance', 'uniform', 'distance',\n",
              "                    'uniform', 'distance', 'uniform', 'distance',\n",
              "                    'uniform', 'distance', 'uniform', 'distance',\n",
              "                    'uniform', 'distance', 'uniform', 'distance',\n",
              "                    'uniform', 'distance', 'uniform', 'distance',\n",
              "                    'uniform', 'distance', 'uniform', 'distance',\n",
              "                    'uniform', 'distance', 'uniform', 'distance',\n",
              "                    'uniform', 'distance', 'uniform', 'distance',\n",
              "                    'uniform', 'distance', 'uniform', 'distance',\n",
              "                    'uniform', 'distance', 'uniform', 'distance',\n",
              "                    'uniform', 'distance', 'uniform', 'distance',\n",
              "                    'uniform', 'distance', 'uniform', 'distance',\n",
              "                    'uniform', 'distance', 'uniform', 'distance',\n",
              "                    'uniform', 'distance', 'uniform', 'distance',\n",
              "                    'uniform', 'distance', 'uniform', 'distance',\n",
              "                    'uniform', 'distance', 'uniform', 'distance',\n",
              "                    'uniform', 'distance', 'uniform', 'distance',\n",
              "                    'uniform', 'distance', 'uniform', 'distance',\n",
              "                    'uniform', 'distance', 'uniform', 'distance',\n",
              "                    'uniform', 'distance', 'uniform', 'distance',\n",
              "                    'uniform', 'distance', 'uniform', 'distance',\n",
              "                    'uniform', 'distance', 'uniform', 'distance',\n",
              "                    'uniform', 'distance', 'uniform', 'distance',\n",
              "                    'uniform', 'distance', 'uniform', 'distance',\n",
              "                    'uniform', 'distance', 'uniform', 'distance',\n",
              "                    'uniform', 'distance', 'uniform', 'distance',\n",
              "                    'uniform', 'distance', 'uniform', 'distance',\n",
              "                    'uniform', 'distance', 'uniform', 'distance',\n",
              "                    'uniform', 'distance', 'uniform', 'distance',\n",
              "                    'uniform', 'distance', 'uniform', 'distance',\n",
              "                    'uniform', 'distance', 'uniform', 'distance',\n",
              "                    'uniform', 'distance', 'uniform', 'distance',\n",
              "                    'uniform', 'distance', 'uniform', 'distance',\n",
              "                    'uniform', 'distance', 'uniform', 'distance',\n",
              "                    'uniform', 'distance', 'uniform', 'distance',\n",
              "                    'uniform', 'distance', 'uniform', 'distance',\n",
              "                    'uniform', 'distance', 'uniform', 'distance',\n",
              "                    'uniform', 'distance', 'uniform', 'distance',\n",
              "                    'uniform', 'distance', 'uniform', 'distance',\n",
              "                    'uniform', 'distance', 'uniform', 'distance',\n",
              "                    'uniform', 'distance', 'uniform', 'distance',\n",
              "                    'uniform', 'distance', 'uniform', 'distance',\n",
              "                    'uniform', 'distance', 'uniform', 'distance',\n",
              "                    'uniform', 'distance', 'uniform', 'distance',\n",
              "                    'uniform', 'distance', 'uniform', 'distance'],\n",
              "              mask=[False, False, False, False, False, False, False, False,\n",
              "                    False, False, False, False, False, False, False, False,\n",
              "                    False, False, False, False, False, False, False, False,\n",
              "                    False, False, False, False, False, False, False, False,\n",
              "                    False, False, False, False, False, False, False, False,\n",
              "                    False, False, False, False, False, False, False, False,\n",
              "                    False, False, False, False, False, False, False, False,\n",
              "                    False, False, False, False, False, False, False, False,\n",
              "                    False, False, False, False, False, False, False, False,\n",
              "                    False, False, False, False, False, False, False, False,\n",
              "                    False, False, False, False, False, False, False, False,\n",
              "                    False, False, False, False, False, False, False, False,\n",
              "                    False, False, False, False, False, False, False, False,\n",
              "                    False, False, False, False, False, False, False, False,\n",
              "                    False, False, False, False, False, False, False, False,\n",
              "                    False, False, False, False, False, False, False, False,\n",
              "                    False, False, False, False, False, False, False, False,\n",
              "                    False, False, False, False, False, False, False, False,\n",
              "                    False, False, False, False, False, False, False, False,\n",
              "                    False, False, False, False, False, False, False, False,\n",
              "                    False, False, False, False, False, False, False, False,\n",
              "                    False, False, False, False, False, False, False, False,\n",
              "                    False, False, False, False, False, False, False, False,\n",
              "                    False, False, False, False, False, False, False, False,\n",
              "                    False, False, False, False, False, False, False, False],\n",
              "        fill_value='?',\n",
              "             dtype=object),\n",
              " 'params': [{'n_neighbors': 1, 'p': 1, 'weights': 'uniform'},\n",
              "  {'n_neighbors': 1, 'p': 1, 'weights': 'distance'},\n",
              "  {'n_neighbors': 1, 'p': 2, 'weights': 'uniform'},\n",
              "  {'n_neighbors': 1, 'p': 2, 'weights': 'distance'},\n",
              "  {'n_neighbors': 2, 'p': 1, 'weights': 'uniform'},\n",
              "  {'n_neighbors': 2, 'p': 1, 'weights': 'distance'},\n",
              "  {'n_neighbors': 2, 'p': 2, 'weights': 'uniform'},\n",
              "  {'n_neighbors': 2, 'p': 2, 'weights': 'distance'},\n",
              "  {'n_neighbors': 3, 'p': 1, 'weights': 'uniform'},\n",
              "  {'n_neighbors': 3, 'p': 1, 'weights': 'distance'},\n",
              "  {'n_neighbors': 3, 'p': 2, 'weights': 'uniform'},\n",
              "  {'n_neighbors': 3, 'p': 2, 'weights': 'distance'},\n",
              "  {'n_neighbors': 4, 'p': 1, 'weights': 'uniform'},\n",
              "  {'n_neighbors': 4, 'p': 1, 'weights': 'distance'},\n",
              "  {'n_neighbors': 4, 'p': 2, 'weights': 'uniform'},\n",
              "  {'n_neighbors': 4, 'p': 2, 'weights': 'distance'},\n",
              "  {'n_neighbors': 5, 'p': 1, 'weights': 'uniform'},\n",
              "  {'n_neighbors': 5, 'p': 1, 'weights': 'distance'},\n",
              "  {'n_neighbors': 5, 'p': 2, 'weights': 'uniform'},\n",
              "  {'n_neighbors': 5, 'p': 2, 'weights': 'distance'},\n",
              "  {'n_neighbors': 6, 'p': 1, 'weights': 'uniform'},\n",
              "  {'n_neighbors': 6, 'p': 1, 'weights': 'distance'},\n",
              "  {'n_neighbors': 6, 'p': 2, 'weights': 'uniform'},\n",
              "  {'n_neighbors': 6, 'p': 2, 'weights': 'distance'},\n",
              "  {'n_neighbors': 7, 'p': 1, 'weights': 'uniform'},\n",
              "  {'n_neighbors': 7, 'p': 1, 'weights': 'distance'},\n",
              "  {'n_neighbors': 7, 'p': 2, 'weights': 'uniform'},\n",
              "  {'n_neighbors': 7, 'p': 2, 'weights': 'distance'},\n",
              "  {'n_neighbors': 8, 'p': 1, 'weights': 'uniform'},\n",
              "  {'n_neighbors': 8, 'p': 1, 'weights': 'distance'},\n",
              "  {'n_neighbors': 8, 'p': 2, 'weights': 'uniform'},\n",
              "  {'n_neighbors': 8, 'p': 2, 'weights': 'distance'},\n",
              "  {'n_neighbors': 9, 'p': 1, 'weights': 'uniform'},\n",
              "  {'n_neighbors': 9, 'p': 1, 'weights': 'distance'},\n",
              "  {'n_neighbors': 9, 'p': 2, 'weights': 'uniform'},\n",
              "  {'n_neighbors': 9, 'p': 2, 'weights': 'distance'},\n",
              "  {'n_neighbors': 10, 'p': 1, 'weights': 'uniform'},\n",
              "  {'n_neighbors': 10, 'p': 1, 'weights': 'distance'},\n",
              "  {'n_neighbors': 10, 'p': 2, 'weights': 'uniform'},\n",
              "  {'n_neighbors': 10, 'p': 2, 'weights': 'distance'},\n",
              "  {'n_neighbors': 11, 'p': 1, 'weights': 'uniform'},\n",
              "  {'n_neighbors': 11, 'p': 1, 'weights': 'distance'},\n",
              "  {'n_neighbors': 11, 'p': 2, 'weights': 'uniform'},\n",
              "  {'n_neighbors': 11, 'p': 2, 'weights': 'distance'},\n",
              "  {'n_neighbors': 12, 'p': 1, 'weights': 'uniform'},\n",
              "  {'n_neighbors': 12, 'p': 1, 'weights': 'distance'},\n",
              "  {'n_neighbors': 12, 'p': 2, 'weights': 'uniform'},\n",
              "  {'n_neighbors': 12, 'p': 2, 'weights': 'distance'},\n",
              "  {'n_neighbors': 13, 'p': 1, 'weights': 'uniform'},\n",
              "  {'n_neighbors': 13, 'p': 1, 'weights': 'distance'},\n",
              "  {'n_neighbors': 13, 'p': 2, 'weights': 'uniform'},\n",
              "  {'n_neighbors': 13, 'p': 2, 'weights': 'distance'},\n",
              "  {'n_neighbors': 14, 'p': 1, 'weights': 'uniform'},\n",
              "  {'n_neighbors': 14, 'p': 1, 'weights': 'distance'},\n",
              "  {'n_neighbors': 14, 'p': 2, 'weights': 'uniform'},\n",
              "  {'n_neighbors': 14, 'p': 2, 'weights': 'distance'},\n",
              "  {'n_neighbors': 15, 'p': 1, 'weights': 'uniform'},\n",
              "  {'n_neighbors': 15, 'p': 1, 'weights': 'distance'},\n",
              "  {'n_neighbors': 15, 'p': 2, 'weights': 'uniform'},\n",
              "  {'n_neighbors': 15, 'p': 2, 'weights': 'distance'},\n",
              "  {'n_neighbors': 16, 'p': 1, 'weights': 'uniform'},\n",
              "  {'n_neighbors': 16, 'p': 1, 'weights': 'distance'},\n",
              "  {'n_neighbors': 16, 'p': 2, 'weights': 'uniform'},\n",
              "  {'n_neighbors': 16, 'p': 2, 'weights': 'distance'},\n",
              "  {'n_neighbors': 17, 'p': 1, 'weights': 'uniform'},\n",
              "  {'n_neighbors': 17, 'p': 1, 'weights': 'distance'},\n",
              "  {'n_neighbors': 17, 'p': 2, 'weights': 'uniform'},\n",
              "  {'n_neighbors': 17, 'p': 2, 'weights': 'distance'},\n",
              "  {'n_neighbors': 18, 'p': 1, 'weights': 'uniform'},\n",
              "  {'n_neighbors': 18, 'p': 1, 'weights': 'distance'},\n",
              "  {'n_neighbors': 18, 'p': 2, 'weights': 'uniform'},\n",
              "  {'n_neighbors': 18, 'p': 2, 'weights': 'distance'},\n",
              "  {'n_neighbors': 19, 'p': 1, 'weights': 'uniform'},\n",
              "  {'n_neighbors': 19, 'p': 1, 'weights': 'distance'},\n",
              "  {'n_neighbors': 19, 'p': 2, 'weights': 'uniform'},\n",
              "  {'n_neighbors': 19, 'p': 2, 'weights': 'distance'},\n",
              "  {'n_neighbors': 20, 'p': 1, 'weights': 'uniform'},\n",
              "  {'n_neighbors': 20, 'p': 1, 'weights': 'distance'},\n",
              "  {'n_neighbors': 20, 'p': 2, 'weights': 'uniform'},\n",
              "  {'n_neighbors': 20, 'p': 2, 'weights': 'distance'},\n",
              "  {'n_neighbors': 21, 'p': 1, 'weights': 'uniform'},\n",
              "  {'n_neighbors': 21, 'p': 1, 'weights': 'distance'},\n",
              "  {'n_neighbors': 21, 'p': 2, 'weights': 'uniform'},\n",
              "  {'n_neighbors': 21, 'p': 2, 'weights': 'distance'},\n",
              "  {'n_neighbors': 22, 'p': 1, 'weights': 'uniform'},\n",
              "  {'n_neighbors': 22, 'p': 1, 'weights': 'distance'},\n",
              "  {'n_neighbors': 22, 'p': 2, 'weights': 'uniform'},\n",
              "  {'n_neighbors': 22, 'p': 2, 'weights': 'distance'},\n",
              "  {'n_neighbors': 23, 'p': 1, 'weights': 'uniform'},\n",
              "  {'n_neighbors': 23, 'p': 1, 'weights': 'distance'},\n",
              "  {'n_neighbors': 23, 'p': 2, 'weights': 'uniform'},\n",
              "  {'n_neighbors': 23, 'p': 2, 'weights': 'distance'},\n",
              "  {'n_neighbors': 24, 'p': 1, 'weights': 'uniform'},\n",
              "  {'n_neighbors': 24, 'p': 1, 'weights': 'distance'},\n",
              "  {'n_neighbors': 24, 'p': 2, 'weights': 'uniform'},\n",
              "  {'n_neighbors': 24, 'p': 2, 'weights': 'distance'},\n",
              "  {'n_neighbors': 25, 'p': 1, 'weights': 'uniform'},\n",
              "  {'n_neighbors': 25, 'p': 1, 'weights': 'distance'},\n",
              "  {'n_neighbors': 25, 'p': 2, 'weights': 'uniform'},\n",
              "  {'n_neighbors': 25, 'p': 2, 'weights': 'distance'},\n",
              "  {'n_neighbors': 26, 'p': 1, 'weights': 'uniform'},\n",
              "  {'n_neighbors': 26, 'p': 1, 'weights': 'distance'},\n",
              "  {'n_neighbors': 26, 'p': 2, 'weights': 'uniform'},\n",
              "  {'n_neighbors': 26, 'p': 2, 'weights': 'distance'},\n",
              "  {'n_neighbors': 27, 'p': 1, 'weights': 'uniform'},\n",
              "  {'n_neighbors': 27, 'p': 1, 'weights': 'distance'},\n",
              "  {'n_neighbors': 27, 'p': 2, 'weights': 'uniform'},\n",
              "  {'n_neighbors': 27, 'p': 2, 'weights': 'distance'},\n",
              "  {'n_neighbors': 28, 'p': 1, 'weights': 'uniform'},\n",
              "  {'n_neighbors': 28, 'p': 1, 'weights': 'distance'},\n",
              "  {'n_neighbors': 28, 'p': 2, 'weights': 'uniform'},\n",
              "  {'n_neighbors': 28, 'p': 2, 'weights': 'distance'},\n",
              "  {'n_neighbors': 29, 'p': 1, 'weights': 'uniform'},\n",
              "  {'n_neighbors': 29, 'p': 1, 'weights': 'distance'},\n",
              "  {'n_neighbors': 29, 'p': 2, 'weights': 'uniform'},\n",
              "  {'n_neighbors': 29, 'p': 2, 'weights': 'distance'},\n",
              "  {'n_neighbors': 30, 'p': 1, 'weights': 'uniform'},\n",
              "  {'n_neighbors': 30, 'p': 1, 'weights': 'distance'},\n",
              "  {'n_neighbors': 30, 'p': 2, 'weights': 'uniform'},\n",
              "  {'n_neighbors': 30, 'p': 2, 'weights': 'distance'},\n",
              "  {'n_neighbors': 31, 'p': 1, 'weights': 'uniform'},\n",
              "  {'n_neighbors': 31, 'p': 1, 'weights': 'distance'},\n",
              "  {'n_neighbors': 31, 'p': 2, 'weights': 'uniform'},\n",
              "  {'n_neighbors': 31, 'p': 2, 'weights': 'distance'},\n",
              "  {'n_neighbors': 32, 'p': 1, 'weights': 'uniform'},\n",
              "  {'n_neighbors': 32, 'p': 1, 'weights': 'distance'},\n",
              "  {'n_neighbors': 32, 'p': 2, 'weights': 'uniform'},\n",
              "  {'n_neighbors': 32, 'p': 2, 'weights': 'distance'},\n",
              "  {'n_neighbors': 33, 'p': 1, 'weights': 'uniform'},\n",
              "  {'n_neighbors': 33, 'p': 1, 'weights': 'distance'},\n",
              "  {'n_neighbors': 33, 'p': 2, 'weights': 'uniform'},\n",
              "  {'n_neighbors': 33, 'p': 2, 'weights': 'distance'},\n",
              "  {'n_neighbors': 34, 'p': 1, 'weights': 'uniform'},\n",
              "  {'n_neighbors': 34, 'p': 1, 'weights': 'distance'},\n",
              "  {'n_neighbors': 34, 'p': 2, 'weights': 'uniform'},\n",
              "  {'n_neighbors': 34, 'p': 2, 'weights': 'distance'},\n",
              "  {'n_neighbors': 35, 'p': 1, 'weights': 'uniform'},\n",
              "  {'n_neighbors': 35, 'p': 1, 'weights': 'distance'},\n",
              "  {'n_neighbors': 35, 'p': 2, 'weights': 'uniform'},\n",
              "  {'n_neighbors': 35, 'p': 2, 'weights': 'distance'},\n",
              "  {'n_neighbors': 36, 'p': 1, 'weights': 'uniform'},\n",
              "  {'n_neighbors': 36, 'p': 1, 'weights': 'distance'},\n",
              "  {'n_neighbors': 36, 'p': 2, 'weights': 'uniform'},\n",
              "  {'n_neighbors': 36, 'p': 2, 'weights': 'distance'},\n",
              "  {'n_neighbors': 37, 'p': 1, 'weights': 'uniform'},\n",
              "  {'n_neighbors': 37, 'p': 1, 'weights': 'distance'},\n",
              "  {'n_neighbors': 37, 'p': 2, 'weights': 'uniform'},\n",
              "  {'n_neighbors': 37, 'p': 2, 'weights': 'distance'},\n",
              "  {'n_neighbors': 38, 'p': 1, 'weights': 'uniform'},\n",
              "  {'n_neighbors': 38, 'p': 1, 'weights': 'distance'},\n",
              "  {'n_neighbors': 38, 'p': 2, 'weights': 'uniform'},\n",
              "  {'n_neighbors': 38, 'p': 2, 'weights': 'distance'},\n",
              "  {'n_neighbors': 39, 'p': 1, 'weights': 'uniform'},\n",
              "  {'n_neighbors': 39, 'p': 1, 'weights': 'distance'},\n",
              "  {'n_neighbors': 39, 'p': 2, 'weights': 'uniform'},\n",
              "  {'n_neighbors': 39, 'p': 2, 'weights': 'distance'},\n",
              "  {'n_neighbors': 40, 'p': 1, 'weights': 'uniform'},\n",
              "  {'n_neighbors': 40, 'p': 1, 'weights': 'distance'},\n",
              "  {'n_neighbors': 40, 'p': 2, 'weights': 'uniform'},\n",
              "  {'n_neighbors': 40, 'p': 2, 'weights': 'distance'},\n",
              "  {'n_neighbors': 41, 'p': 1, 'weights': 'uniform'},\n",
              "  {'n_neighbors': 41, 'p': 1, 'weights': 'distance'},\n",
              "  {'n_neighbors': 41, 'p': 2, 'weights': 'uniform'},\n",
              "  {'n_neighbors': 41, 'p': 2, 'weights': 'distance'},\n",
              "  {'n_neighbors': 42, 'p': 1, 'weights': 'uniform'},\n",
              "  {'n_neighbors': 42, 'p': 1, 'weights': 'distance'},\n",
              "  {'n_neighbors': 42, 'p': 2, 'weights': 'uniform'},\n",
              "  {'n_neighbors': 42, 'p': 2, 'weights': 'distance'},\n",
              "  {'n_neighbors': 43, 'p': 1, 'weights': 'uniform'},\n",
              "  {'n_neighbors': 43, 'p': 1, 'weights': 'distance'},\n",
              "  {'n_neighbors': 43, 'p': 2, 'weights': 'uniform'},\n",
              "  {'n_neighbors': 43, 'p': 2, 'weights': 'distance'},\n",
              "  {'n_neighbors': 44, 'p': 1, 'weights': 'uniform'},\n",
              "  {'n_neighbors': 44, 'p': 1, 'weights': 'distance'},\n",
              "  {'n_neighbors': 44, 'p': 2, 'weights': 'uniform'},\n",
              "  {'n_neighbors': 44, 'p': 2, 'weights': 'distance'},\n",
              "  {'n_neighbors': 45, 'p': 1, 'weights': 'uniform'},\n",
              "  {'n_neighbors': 45, 'p': 1, 'weights': 'distance'},\n",
              "  {'n_neighbors': 45, 'p': 2, 'weights': 'uniform'},\n",
              "  {'n_neighbors': 45, 'p': 2, 'weights': 'distance'},\n",
              "  {'n_neighbors': 46, 'p': 1, 'weights': 'uniform'},\n",
              "  {'n_neighbors': 46, 'p': 1, 'weights': 'distance'},\n",
              "  {'n_neighbors': 46, 'p': 2, 'weights': 'uniform'},\n",
              "  {'n_neighbors': 46, 'p': 2, 'weights': 'distance'},\n",
              "  {'n_neighbors': 47, 'p': 1, 'weights': 'uniform'},\n",
              "  {'n_neighbors': 47, 'p': 1, 'weights': 'distance'},\n",
              "  {'n_neighbors': 47, 'p': 2, 'weights': 'uniform'},\n",
              "  {'n_neighbors': 47, 'p': 2, 'weights': 'distance'},\n",
              "  {'n_neighbors': 48, 'p': 1, 'weights': 'uniform'},\n",
              "  {'n_neighbors': 48, 'p': 1, 'weights': 'distance'},\n",
              "  {'n_neighbors': 48, 'p': 2, 'weights': 'uniform'},\n",
              "  {'n_neighbors': 48, 'p': 2, 'weights': 'distance'},\n",
              "  {'n_neighbors': 49, 'p': 1, 'weights': 'uniform'},\n",
              "  {'n_neighbors': 49, 'p': 1, 'weights': 'distance'},\n",
              "  {'n_neighbors': 49, 'p': 2, 'weights': 'uniform'},\n",
              "  {'n_neighbors': 49, 'p': 2, 'weights': 'distance'},\n",
              "  {'n_neighbors': 50, 'p': 1, 'weights': 'uniform'},\n",
              "  {'n_neighbors': 50, 'p': 1, 'weights': 'distance'},\n",
              "  {'n_neighbors': 50, 'p': 2, 'weights': 'uniform'},\n",
              "  {'n_neighbors': 50, 'p': 2, 'weights': 'distance'}],\n",
              " 'split0_test_score': array([0.91666667, 0.91666667, 0.91666667, 0.91666667, 0.91666667,\n",
              "        0.91666667, 0.91666667, 0.91666667, 0.95833333, 0.95833333,\n",
              "        1.        , 1.        , 0.95833333, 0.95833333, 1.        ,\n",
              "        1.        , 1.        , 1.        , 1.        , 1.        ,\n",
              "        1.        , 1.        , 1.        , 1.        , 1.        ,\n",
              "        1.        , 1.        , 1.        , 1.        , 1.        ,\n",
              "        1.        , 1.        , 1.        , 1.        , 1.        ,\n",
              "        1.        , 1.        , 1.        , 1.        , 1.        ,\n",
              "        1.        , 1.        , 1.        , 1.        , 1.        ,\n",
              "        1.        , 1.        , 1.        , 1.        , 1.        ,\n",
              "        1.        , 1.        , 1.        , 1.        , 1.        ,\n",
              "        1.        , 1.        , 1.        , 1.        , 1.        ,\n",
              "        1.        , 1.        , 1.        , 1.        , 1.        ,\n",
              "        1.        , 1.        , 1.        , 1.        , 1.        ,\n",
              "        1.        , 1.        , 1.        , 1.        , 1.        ,\n",
              "        1.        , 1.        , 1.        , 1.        , 1.        ,\n",
              "        1.        , 1.        , 1.        , 1.        , 1.        ,\n",
              "        1.        , 1.        , 1.        , 1.        , 1.        ,\n",
              "        1.        , 1.        , 1.        , 1.        , 1.        ,\n",
              "        1.        , 0.95833333, 1.        , 1.        , 1.        ,\n",
              "        1.        , 1.        , 1.        , 1.        , 0.95833333,\n",
              "        1.        , 1.        , 1.        , 0.95833333, 1.        ,\n",
              "        1.        , 1.        , 0.95833333, 1.        , 1.        ,\n",
              "        1.        , 0.95833333, 1.        , 1.        , 1.        ,\n",
              "        0.95833333, 1.        , 0.95833333, 1.        , 0.95833333,\n",
              "        1.        , 0.95833333, 1.        , 0.95833333, 1.        ,\n",
              "        0.95833333, 1.        , 0.91666667, 1.        , 0.91666667,\n",
              "        1.        , 0.91666667, 1.        , 0.91666667, 1.        ,\n",
              "        0.91666667, 1.        , 0.91666667, 1.        , 0.91666667,\n",
              "        1.        , 0.95833333, 1.        , 0.91666667, 1.        ,\n",
              "        0.95833333, 1.        , 0.91666667, 1.        , 0.95833333,\n",
              "        1.        , 0.91666667, 1.        , 0.95833333, 1.        ,\n",
              "        0.91666667, 1.        , 0.95833333, 1.        , 0.91666667,\n",
              "        1.        , 0.95833333, 1.        , 0.91666667, 1.        ,\n",
              "        0.95833333, 1.        , 0.91666667, 1.        , 0.95833333,\n",
              "        1.        , 0.91666667, 1.        , 0.95833333, 1.        ,\n",
              "        0.91666667, 1.        , 0.91666667, 1.        , 0.91666667,\n",
              "        1.        , 0.91666667, 1.        , 0.91666667, 1.        ,\n",
              "        0.91666667, 1.        , 0.91666667, 1.        , 0.95833333,\n",
              "        1.        , 0.91666667, 1.        , 0.91666667, 1.        ]),\n",
              " 'split1_test_score': array([0.91666667, 0.91666667, 0.91666667, 0.91666667, 0.91666667,\n",
              "        0.91666667, 0.91666667, 0.91666667, 0.95833333, 0.91666667,\n",
              "        0.95833333, 0.91666667, 0.95833333, 0.91666667, 0.95833333,\n",
              "        0.91666667, 0.95833333, 0.91666667, 0.95833333, 0.91666667,\n",
              "        0.95833333, 0.91666667, 0.95833333, 0.91666667, 0.95833333,\n",
              "        0.91666667, 0.95833333, 0.91666667, 0.91666667, 0.91666667,\n",
              "        0.91666667, 0.91666667, 0.95833333, 0.91666667, 0.95833333,\n",
              "        0.91666667, 0.91666667, 0.91666667, 0.875     , 0.91666667,\n",
              "        0.95833333, 0.91666667, 0.91666667, 0.91666667, 0.91666667,\n",
              "        0.91666667, 0.875     , 0.91666667, 0.95833333, 0.91666667,\n",
              "        0.91666667, 0.91666667, 0.875     , 0.91666667, 0.875     ,\n",
              "        0.91666667, 0.875     , 0.91666667, 0.875     , 0.91666667,\n",
              "        0.875     , 0.91666667, 0.875     , 0.91666667, 0.875     ,\n",
              "        0.91666667, 0.91666667, 0.91666667, 0.875     , 0.91666667,\n",
              "        0.875     , 0.91666667, 0.875     , 0.91666667, 0.91666667,\n",
              "        0.91666667, 0.875     , 0.91666667, 0.875     , 0.91666667,\n",
              "        0.875     , 0.91666667, 0.91666667, 0.91666667, 0.875     ,\n",
              "        0.91666667, 0.875     , 0.91666667, 0.875     , 0.91666667,\n",
              "        0.91666667, 0.91666667, 0.79166667, 0.91666667, 0.875     ,\n",
              "        0.91666667, 0.875     , 0.91666667, 0.91666667, 0.91666667,\n",
              "        0.79166667, 0.91666667, 0.875     , 0.91666667, 0.79166667,\n",
              "        0.91666667, 0.875     , 0.91666667, 0.79166667, 0.91666667,\n",
              "        0.79166667, 0.91666667, 0.79166667, 0.91666667, 0.79166667,\n",
              "        0.91666667, 0.79166667, 0.91666667, 0.79166667, 0.91666667,\n",
              "        0.79166667, 0.91666667, 0.79166667, 0.91666667, 0.79166667,\n",
              "        0.91666667, 0.79166667, 0.91666667, 0.75      , 0.91666667,\n",
              "        0.79166667, 0.91666667, 0.75      , 0.91666667, 0.79166667,\n",
              "        0.91666667, 0.75      , 0.91666667, 0.79166667, 0.91666667,\n",
              "        0.75      , 0.91666667, 0.79166667, 0.91666667, 0.75      ,\n",
              "        0.91666667, 0.79166667, 0.91666667, 0.75      , 0.91666667,\n",
              "        0.79166667, 0.91666667, 0.75      , 0.91666667, 0.79166667,\n",
              "        0.91666667, 0.75      , 0.875     , 0.79166667, 0.91666667,\n",
              "        0.75      , 0.875     , 0.79166667, 0.91666667, 0.75      ,\n",
              "        0.875     , 0.79166667, 0.91666667, 0.75      , 0.875     ,\n",
              "        0.79166667, 0.91666667, 0.75      , 0.875     , 0.79166667,\n",
              "        0.91666667, 0.75      , 0.875     , 0.79166667, 0.91666667,\n",
              "        0.75      , 0.875     , 0.79166667, 0.91666667, 0.75      ,\n",
              "        0.875     , 0.79166667, 0.91666667, 0.75      , 0.875     ,\n",
              "        0.79166667, 0.91666667, 0.75      , 0.875     , 0.79166667,\n",
              "        0.91666667, 0.70833333, 0.875     , 0.79166667, 0.91666667]),\n",
              " 'split2_test_score': array([0.875     , 0.875     , 0.875     , 0.875     , 0.875     ,\n",
              "        0.875     , 0.91666667, 0.875     , 0.83333333, 0.83333333,\n",
              "        0.83333333, 0.83333333, 0.875     , 0.875     , 0.875     ,\n",
              "        0.875     , 0.79166667, 0.83333333, 0.79166667, 0.79166667,\n",
              "        0.83333333, 0.83333333, 0.83333333, 0.79166667, 0.79166667,\n",
              "        0.83333333, 0.79166667, 0.79166667, 0.875     , 0.875     ,\n",
              "        0.875     , 0.83333333, 0.83333333, 0.83333333, 0.83333333,\n",
              "        0.83333333, 0.875     , 0.875     , 0.83333333, 0.83333333,\n",
              "        0.83333333, 0.83333333, 0.83333333, 0.83333333, 0.83333333,\n",
              "        0.83333333, 0.83333333, 0.79166667, 0.83333333, 0.83333333,\n",
              "        0.79166667, 0.79166667, 0.79166667, 0.83333333, 0.79166667,\n",
              "        0.79166667, 0.83333333, 0.83333333, 0.79166667, 0.79166667,\n",
              "        0.79166667, 0.83333333, 0.79166667, 0.79166667, 0.79166667,\n",
              "        0.83333333, 0.79166667, 0.79166667, 0.79166667, 0.83333333,\n",
              "        0.79166667, 0.79166667, 0.75      , 0.83333333, 0.79166667,\n",
              "        0.79166667, 0.79166667, 0.83333333, 0.83333333, 0.79166667,\n",
              "        0.75      , 0.83333333, 0.79166667, 0.79166667, 0.83333333,\n",
              "        0.83333333, 0.875     , 0.79166667, 0.83333333, 0.83333333,\n",
              "        0.875     , 0.83333333, 0.83333333, 0.83333333, 0.875     ,\n",
              "        0.83333333, 0.83333333, 0.79166667, 0.875     , 0.83333333,\n",
              "        0.83333333, 0.83333333, 0.875     , 0.83333333, 0.83333333,\n",
              "        0.83333333, 0.83333333, 0.83333333, 0.83333333, 0.83333333,\n",
              "        0.875     , 0.83333333, 0.83333333, 0.83333333, 0.875     ,\n",
              "        0.83333333, 0.83333333, 0.83333333, 0.875     , 0.83333333,\n",
              "        0.83333333, 0.79166667, 0.875     , 0.83333333, 0.83333333,\n",
              "        0.83333333, 0.875     , 0.83333333, 0.83333333, 0.79166667,\n",
              "        0.875     , 0.83333333, 0.83333333, 0.83333333, 0.875     ,\n",
              "        0.83333333, 0.83333333, 0.83333333, 0.875     , 0.83333333,\n",
              "        0.79166667, 0.83333333, 0.83333333, 0.83333333, 0.79166667,\n",
              "        0.83333333, 0.875     , 0.83333333, 0.83333333, 0.83333333,\n",
              "        0.83333333, 0.83333333, 0.79166667, 0.83333333, 0.83333333,\n",
              "        0.83333333, 0.83333333, 0.83333333, 0.83333333, 0.83333333,\n",
              "        0.83333333, 0.83333333, 0.79166667, 0.83333333, 0.83333333,\n",
              "        0.83333333, 0.79166667, 0.83333333, 0.83333333, 0.83333333,\n",
              "        0.79166667, 0.83333333, 0.875     , 0.83333333, 0.875     ,\n",
              "        0.83333333, 0.875     , 0.83333333, 0.875     , 0.83333333,\n",
              "        0.875     , 0.83333333, 0.875     , 0.83333333, 0.875     ,\n",
              "        0.83333333, 0.875     , 0.83333333, 0.875     , 0.83333333,\n",
              "        0.875     , 0.83333333, 0.875     , 0.83333333, 0.875     ,\n",
              "        0.83333333, 0.875     , 0.79166667, 0.875     , 0.83333333]),\n",
              " 'split3_test_score': array([0.95833333, 0.95833333, 0.95833333, 0.95833333, 0.95833333,\n",
              "        0.95833333, 0.95833333, 0.95833333, 1.        , 1.        ,\n",
              "        0.95833333, 0.95833333, 0.95833333, 0.95833333, 0.95833333,\n",
              "        0.95833333, 0.95833333, 0.95833333, 1.        , 1.        ,\n",
              "        0.95833333, 0.95833333, 1.        , 1.        , 1.        ,\n",
              "        1.        , 1.        , 1.        , 1.        , 1.        ,\n",
              "        1.        , 1.        , 1.        , 1.        , 1.        ,\n",
              "        1.        , 0.95833333, 1.        , 0.95833333, 1.        ,\n",
              "        0.95833333, 0.95833333, 0.95833333, 0.95833333, 0.95833333,\n",
              "        0.95833333, 0.95833333, 0.95833333, 0.95833333, 0.95833333,\n",
              "        0.95833333, 0.95833333, 0.95833333, 0.95833333, 0.95833333,\n",
              "        0.95833333, 0.95833333, 0.95833333, 0.95833333, 0.95833333,\n",
              "        0.95833333, 0.95833333, 0.95833333, 0.95833333, 0.95833333,\n",
              "        0.95833333, 1.        , 1.        , 0.95833333, 0.95833333,\n",
              "        0.95833333, 0.95833333, 0.95833333, 0.95833333, 0.95833333,\n",
              "        0.95833333, 0.95833333, 0.95833333, 0.95833333, 0.95833333,\n",
              "        0.95833333, 0.95833333, 0.95833333, 0.95833333, 0.95833333,\n",
              "        0.95833333, 0.95833333, 0.95833333, 1.        , 1.        ,\n",
              "        0.95833333, 0.95833333, 1.        , 1.        , 0.95833333,\n",
              "        0.95833333, 1.        , 1.        , 1.        , 1.        ,\n",
              "        0.95833333, 0.95833333, 0.95833333, 0.95833333, 0.95833333,\n",
              "        0.95833333, 0.95833333, 0.95833333, 0.95833333, 0.95833333,\n",
              "        0.95833333, 0.95833333, 0.95833333, 1.        , 0.95833333,\n",
              "        0.95833333, 0.95833333, 1.        , 0.95833333, 0.95833333,\n",
              "        0.95833333, 1.        , 0.91666667, 0.95833333, 0.95833333,\n",
              "        1.        , 0.95833333, 0.95833333, 0.95833333, 1.        ,\n",
              "        0.91666667, 0.95833333, 0.95833333, 1.        , 0.91666667,\n",
              "        0.95833333, 0.95833333, 1.        , 0.95833333, 1.        ,\n",
              "        0.91666667, 1.        , 0.91666667, 0.95833333, 0.91666667,\n",
              "        0.95833333, 0.91666667, 0.95833333, 0.91666667, 0.95833333,\n",
              "        0.91666667, 0.95833333, 0.91666667, 0.95833333, 0.91666667,\n",
              "        0.95833333, 0.91666667, 0.95833333, 0.91666667, 0.95833333,\n",
              "        0.91666667, 0.95833333, 0.91666667, 0.95833333, 0.91666667,\n",
              "        0.95833333, 0.91666667, 0.95833333, 0.91666667, 0.95833333,\n",
              "        0.91666667, 0.95833333, 0.91666667, 0.95833333, 0.91666667,\n",
              "        0.95833333, 0.91666667, 0.95833333, 0.91666667, 0.95833333,\n",
              "        0.91666667, 0.95833333, 0.91666667, 0.95833333, 0.91666667,\n",
              "        0.95833333, 0.91666667, 0.95833333, 0.91666667, 0.95833333,\n",
              "        0.91666667, 0.95833333, 0.91666667, 0.95833333, 0.91666667,\n",
              "        0.95833333, 0.91666667, 0.95833333, 0.91666667, 0.95833333]),\n",
              " 'split4_test_score': array([0.91666667, 0.91666667, 0.91666667, 0.91666667, 0.91666667,\n",
              "        0.91666667, 0.91666667, 0.91666667, 0.95833333, 0.95833333,\n",
              "        0.95833333, 0.95833333, 0.95833333, 0.95833333, 0.95833333,\n",
              "        0.95833333, 0.95833333, 0.95833333, 0.95833333, 0.95833333,\n",
              "        0.95833333, 0.95833333, 0.95833333, 0.95833333, 0.95833333,\n",
              "        0.95833333, 0.95833333, 0.95833333, 0.95833333, 0.95833333,\n",
              "        0.95833333, 0.95833333, 0.95833333, 0.95833333, 0.95833333,\n",
              "        0.95833333, 0.95833333, 0.95833333, 0.95833333, 0.95833333,\n",
              "        0.95833333, 0.95833333, 0.95833333, 0.95833333, 0.91666667,\n",
              "        0.95833333, 0.91666667, 0.95833333, 0.95833333, 0.95833333,\n",
              "        0.91666667, 0.95833333, 0.91666667, 0.95833333, 0.91666667,\n",
              "        0.95833333, 0.91666667, 0.95833333, 0.91666667, 0.95833333,\n",
              "        0.91666667, 0.95833333, 0.91666667, 0.95833333, 0.91666667,\n",
              "        0.95833333, 0.91666667, 0.95833333, 0.875     , 0.95833333,\n",
              "        0.91666667, 0.95833333, 0.875     , 0.95833333, 0.875     ,\n",
              "        0.95833333, 0.875     , 0.95833333, 0.875     , 0.95833333,\n",
              "        0.875     , 0.95833333, 0.875     , 0.95833333, 0.875     ,\n",
              "        0.95833333, 0.875     , 0.95833333, 0.875     , 0.95833333,\n",
              "        0.875     , 0.95833333, 0.875     , 0.95833333, 0.875     ,\n",
              "        0.95833333, 0.875     , 0.875     , 0.875     , 0.95833333,\n",
              "        0.875     , 0.91666667, 0.875     , 0.95833333, 0.875     ,\n",
              "        0.91666667, 0.875     , 0.95833333, 0.875     , 0.95833333,\n",
              "        0.875     , 0.95833333, 0.875     , 0.95833333, 0.875     ,\n",
              "        0.95833333, 0.875     , 0.95833333, 0.875     , 0.95833333,\n",
              "        0.875     , 0.95833333, 0.875     , 0.95833333, 0.875     ,\n",
              "        0.91666667, 0.875     , 0.95833333, 0.875     , 0.91666667,\n",
              "        0.875     , 0.95833333, 0.83333333, 0.91666667, 0.83333333,\n",
              "        0.95833333, 0.83333333, 0.875     , 0.83333333, 0.95833333,\n",
              "        0.79166667, 0.875     , 0.83333333, 0.95833333, 0.79166667,\n",
              "        0.875     , 0.83333333, 0.95833333, 0.79166667, 0.875     ,\n",
              "        0.83333333, 0.95833333, 0.79166667, 0.875     , 0.83333333,\n",
              "        0.91666667, 0.79166667, 0.875     , 0.83333333, 0.95833333,\n",
              "        0.79166667, 0.875     , 0.875     , 0.91666667, 0.79166667,\n",
              "        0.875     , 0.83333333, 0.875     , 0.79166667, 0.875     ,\n",
              "        0.875     , 0.875     , 0.79166667, 0.875     , 0.83333333,\n",
              "        0.91666667, 0.79166667, 0.875     , 0.83333333, 0.91666667,\n",
              "        0.79166667, 0.875     , 0.83333333, 0.91666667, 0.79166667,\n",
              "        0.875     , 0.83333333, 0.91666667, 0.79166667, 0.875     ,\n",
              "        0.83333333, 0.91666667, 0.79166667, 0.875     , 0.83333333,\n",
              "        0.91666667, 0.79166667, 0.875     , 0.83333333, 0.95833333]),\n",
              " 'mean_test_score': array([0.91666667, 0.91666667, 0.91666667, 0.91666667, 0.91666667,\n",
              "        0.91666667, 0.925     , 0.91666667, 0.94166667, 0.93333333,\n",
              "        0.94166667, 0.93333333, 0.94166667, 0.93333333, 0.95      ,\n",
              "        0.94166667, 0.93333333, 0.93333333, 0.94166667, 0.93333333,\n",
              "        0.94166667, 0.93333333, 0.95      , 0.93333333, 0.94166667,\n",
              "        0.94166667, 0.94166667, 0.93333333, 0.95      , 0.95      ,\n",
              "        0.95      , 0.94166667, 0.95      , 0.94166667, 0.95      ,\n",
              "        0.94166667, 0.94166667, 0.95      , 0.925     , 0.94166667,\n",
              "        0.94166667, 0.93333333, 0.93333333, 0.93333333, 0.925     ,\n",
              "        0.93333333, 0.91666667, 0.925     , 0.94166667, 0.93333333,\n",
              "        0.91666667, 0.925     , 0.90833333, 0.93333333, 0.90833333,\n",
              "        0.925     , 0.91666667, 0.93333333, 0.90833333, 0.925     ,\n",
              "        0.90833333, 0.93333333, 0.90833333, 0.925     , 0.90833333,\n",
              "        0.93333333, 0.925     , 0.93333333, 0.9       , 0.93333333,\n",
              "        0.90833333, 0.925     , 0.89166667, 0.93333333, 0.90833333,\n",
              "        0.925     , 0.9       , 0.93333333, 0.90833333, 0.925     ,\n",
              "        0.89166667, 0.93333333, 0.90833333, 0.925     , 0.90833333,\n",
              "        0.93333333, 0.91666667, 0.925     , 0.91666667, 0.94166667,\n",
              "        0.925     , 0.93333333, 0.9       , 0.94166667, 0.91666667,\n",
              "        0.93333333, 0.90833333, 0.91666667, 0.93333333, 0.94166667,\n",
              "        0.89166667, 0.925     , 0.91666667, 0.93333333, 0.88333333,\n",
              "        0.925     , 0.90833333, 0.93333333, 0.88333333, 0.93333333,\n",
              "        0.9       , 0.93333333, 0.88333333, 0.94166667, 0.9       ,\n",
              "        0.93333333, 0.88333333, 0.94166667, 0.9       , 0.93333333,\n",
              "        0.88333333, 0.93333333, 0.88333333, 0.93333333, 0.88333333,\n",
              "        0.93333333, 0.89166667, 0.93333333, 0.875     , 0.925     ,\n",
              "        0.88333333, 0.93333333, 0.85833333, 0.93333333, 0.86666667,\n",
              "        0.93333333, 0.85833333, 0.925     , 0.875     , 0.94166667,\n",
              "        0.83333333, 0.925     , 0.85833333, 0.93333333, 0.83333333,\n",
              "        0.91666667, 0.875     , 0.93333333, 0.84166667, 0.91666667,\n",
              "        0.86666667, 0.93333333, 0.83333333, 0.91666667, 0.86666667,\n",
              "        0.925     , 0.84166667, 0.90833333, 0.86666667, 0.93333333,\n",
              "        0.84166667, 0.90833333, 0.86666667, 0.925     , 0.84166667,\n",
              "        0.90833333, 0.85833333, 0.91666667, 0.84166667, 0.90833333,\n",
              "        0.86666667, 0.91666667, 0.85      , 0.90833333, 0.875     ,\n",
              "        0.925     , 0.85      , 0.90833333, 0.875     , 0.925     ,\n",
              "        0.85      , 0.90833333, 0.86666667, 0.925     , 0.85      ,\n",
              "        0.90833333, 0.86666667, 0.925     , 0.85      , 0.90833333,\n",
              "        0.86666667, 0.925     , 0.85      , 0.90833333, 0.875     ,\n",
              "        0.925     , 0.84166667, 0.9       , 0.86666667, 0.93333333]),\n",
              " 'std_test_score': array([0.02635231, 0.02635231, 0.02635231, 0.02635231, 0.02635231,\n",
              "        0.02635231, 0.01666667, 0.02635231, 0.05651942, 0.05651942,\n",
              "        0.05651942, 0.05651942, 0.03333333, 0.03333333, 0.04082483,\n",
              "        0.04249183, 0.07264832, 0.05651942, 0.07728015, 0.07728015,\n",
              "        0.05651942, 0.05651942, 0.06123724, 0.07728015, 0.07728015,\n",
              "        0.06236096, 0.07728015, 0.07728015, 0.04859127, 0.04859127,\n",
              "        0.04859127, 0.06236096, 0.06123724, 0.06236096, 0.06123724,\n",
              "        0.06236096, 0.04249183, 0.04859127, 0.06123724, 0.06236096,\n",
              "        0.05651942, 0.05651942, 0.05651942, 0.05651942, 0.05527708,\n",
              "        0.05651942, 0.05892557, 0.07168604, 0.05651942, 0.05651942,\n",
              "        0.06972167, 0.07168604, 0.07168604, 0.05651942, 0.07168604,\n",
              "        0.07168604, 0.05892557, 0.05651942, 0.07168604, 0.07168604,\n",
              "        0.07168604, 0.05651942, 0.07168604, 0.07168604, 0.07168604,\n",
              "        0.05651942, 0.07637626, 0.07728015, 0.07264832, 0.05651942,\n",
              "        0.07168604, 0.07168604, 0.08579692, 0.05651942, 0.07168604,\n",
              "        0.07168604, 0.07264832, 0.05651942, 0.06123724, 0.07168604,\n",
              "        0.08579692, 0.05651942, 0.07168604, 0.07168604, 0.06123724,\n",
              "        0.05651942, 0.05270463, 0.07168604, 0.06972167, 0.06236096,\n",
              "        0.04859127, 0.05651942, 0.08579692, 0.06236096, 0.05270463,\n",
              "        0.05651942, 0.06123724, 0.07905694, 0.05651942, 0.06236096,\n",
              "        0.07728015, 0.05527708, 0.05270463, 0.05651942, 0.06666667,\n",
              "        0.05527708, 0.06123724, 0.05651942, 0.06666667, 0.05651942,\n",
              "        0.07264832, 0.05651942, 0.06666667, 0.06236096, 0.07264832,\n",
              "        0.05651942, 0.06666667, 0.06236096, 0.07264832, 0.05651942,\n",
              "        0.06666667, 0.07728015, 0.05527708, 0.05651942, 0.06666667,\n",
              "        0.06236096, 0.06236096, 0.05651942, 0.07905694, 0.07637626,\n",
              "        0.05527708, 0.05651942, 0.07264832, 0.06236096, 0.04859127,\n",
              "        0.05651942, 0.07264832, 0.06666667, 0.05892557, 0.06236096,\n",
              "        0.06972167, 0.06666667, 0.05      , 0.05651942, 0.06972167,\n",
              "        0.05892557, 0.05892557, 0.05651942, 0.06666667, 0.05892557,\n",
              "        0.06123724, 0.05651942, 0.06972167, 0.05892557, 0.06123724,\n",
              "        0.05527708, 0.06666667, 0.06123724, 0.06123724, 0.05651942,\n",
              "        0.06666667, 0.06123724, 0.06666667, 0.05527708, 0.06666667,\n",
              "        0.06123724, 0.06770032, 0.05892557, 0.06666667, 0.06123724,\n",
              "        0.06666667, 0.05892557, 0.06770032, 0.06123724, 0.05892557,\n",
              "        0.05527708, 0.06770032, 0.06123724, 0.05892557, 0.05527708,\n",
              "        0.06770032, 0.06123724, 0.04859127, 0.05527708, 0.06770032,\n",
              "        0.06123724, 0.04859127, 0.05527708, 0.06770032, 0.06123724,\n",
              "        0.04859127, 0.05527708, 0.06770032, 0.06123724, 0.05892557,\n",
              "        0.05527708, 0.08079466, 0.07264832, 0.04859127, 0.05651942]),\n",
              " 'rank_test_score': array([115, 115, 115, 115, 115, 115,  76, 115,  14,  31,   9,  31,   9,\n",
              "         31,   1,  14,  31,  31,  14,  70,   9,  31,   1,  70,  14,  14,\n",
              "         14,  70,   1,   1,   1,  14,   1,  14,   1,  14,  14,   1,  76,\n",
              "         14,   9,  31,  31,  31,  76,  31, 104,  76,   9,  31, 115,  76,\n",
              "        124,  31, 124,  76, 104,  31, 124,  76, 124,  31, 124,  76, 124,\n",
              "         31,  76,  70, 147,  31, 124,  76, 154,  31, 145,  76, 147,  31,\n",
              "        124,  76, 154,  31, 145,  76, 124,  31, 104,  76, 104,  14,  76,\n",
              "         31, 147,  14, 104,  31, 124, 115,  70,  14, 154,  76, 104,  31,\n",
              "        158,  76, 124,  31, 158,  31, 147,  31, 158,  14, 147,  31, 158,\n",
              "         14, 147,  31, 158,  70, 164,  31, 158,  31, 154,  31, 166,  76,\n",
              "        164,  31, 182,  31, 172,  31, 182,  76, 166,  14, 198,  76, 184,\n",
              "         31, 198, 104, 166,  31, 192, 104, 172,  31, 198, 104, 172,  76,\n",
              "        192, 124, 172,  31, 192, 124, 172,  76, 192, 124, 184, 104, 192,\n",
              "        124, 172, 104, 186, 124, 166,  76, 186, 124, 166,  76, 186, 124,\n",
              "        172,  76, 186, 124, 172,  76, 186, 124, 172,  76, 186, 124, 166,\n",
              "         76, 192, 147, 172,  31], dtype=int32)}"
            ]
          },
          "metadata": {},
          "execution_count": 39
        }
      ]
    },
    {
      "cell_type": "code",
      "source": [
        "results = pd.DataFrame(gs.cv_results_)\n",
        "results"
      ],
      "metadata": {
        "colab": {
          "base_uri": "https://localhost:8080/",
          "height": 964
        },
        "id": "8YMbGG_YNO3q",
        "outputId": "c8ca11e7-70d2-4c95-d363-11e14c99fac8"
      },
      "execution_count": 40,
      "outputs": [
        {
          "output_type": "execute_result",
          "data": {
            "text/plain": [
              "     mean_fit_time  std_fit_time  mean_score_time  std_score_time  \\\n",
              "0         0.004035      0.000138         0.007491        0.000159   \n",
              "1         0.003707      0.000459         0.003877        0.000277   \n",
              "2         0.003824      0.000081         0.007401        0.000207   \n",
              "3         0.003181      0.000325         0.003427        0.000206   \n",
              "4         0.004270      0.001120         0.006981        0.000459   \n",
              "..             ...           ...              ...             ...   \n",
              "195       0.003020      0.000126         0.103909        0.008233   \n",
              "196       0.006008      0.002815         0.013567        0.003005   \n",
              "197       0.007244      0.002513         0.039848        0.004207   \n",
              "198       0.004105      0.001698         0.020436        0.014338   \n",
              "199       0.002168      0.000049         0.003126        0.000028   \n",
              "\n",
              "    param_n_neighbors param_p param_weights  \\\n",
              "0                   1       1       uniform   \n",
              "1                   1       1      distance   \n",
              "2                   1       2       uniform   \n",
              "3                   1       2      distance   \n",
              "4                   2       1       uniform   \n",
              "..                ...     ...           ...   \n",
              "195                49       2      distance   \n",
              "196                50       1       uniform   \n",
              "197                50       1      distance   \n",
              "198                50       2       uniform   \n",
              "199                50       2      distance   \n",
              "\n",
              "                                                params  split0_test_score  \\\n",
              "0     {'n_neighbors': 1, 'p': 1, 'weights': 'uniform'}           0.916667   \n",
              "1    {'n_neighbors': 1, 'p': 1, 'weights': 'distance'}           0.916667   \n",
              "2     {'n_neighbors': 1, 'p': 2, 'weights': 'uniform'}           0.916667   \n",
              "3    {'n_neighbors': 1, 'p': 2, 'weights': 'distance'}           0.916667   \n",
              "4     {'n_neighbors': 2, 'p': 1, 'weights': 'uniform'}           0.916667   \n",
              "..                                                 ...                ...   \n",
              "195  {'n_neighbors': 49, 'p': 2, 'weights': 'distan...           1.000000   \n",
              "196  {'n_neighbors': 50, 'p': 1, 'weights': 'uniform'}           0.916667   \n",
              "197  {'n_neighbors': 50, 'p': 1, 'weights': 'distan...           1.000000   \n",
              "198  {'n_neighbors': 50, 'p': 2, 'weights': 'uniform'}           0.916667   \n",
              "199  {'n_neighbors': 50, 'p': 2, 'weights': 'distan...           1.000000   \n",
              "\n",
              "     split1_test_score  split2_test_score  split3_test_score  \\\n",
              "0             0.916667           0.875000           0.958333   \n",
              "1             0.916667           0.875000           0.958333   \n",
              "2             0.916667           0.875000           0.958333   \n",
              "3             0.916667           0.875000           0.958333   \n",
              "4             0.916667           0.875000           0.958333   \n",
              "..                 ...                ...                ...   \n",
              "195           0.916667           0.833333           0.958333   \n",
              "196           0.708333           0.875000           0.916667   \n",
              "197           0.875000           0.791667           0.958333   \n",
              "198           0.791667           0.875000           0.916667   \n",
              "199           0.916667           0.833333           0.958333   \n",
              "\n",
              "     split4_test_score  mean_test_score  std_test_score  rank_test_score  \n",
              "0             0.916667         0.916667        0.026352              115  \n",
              "1             0.916667         0.916667        0.026352              115  \n",
              "2             0.916667         0.916667        0.026352              115  \n",
              "3             0.916667         0.916667        0.026352              115  \n",
              "4             0.916667         0.916667        0.026352              115  \n",
              "..                 ...              ...             ...              ...  \n",
              "195           0.916667         0.925000        0.055277               76  \n",
              "196           0.791667         0.841667        0.080795              192  \n",
              "197           0.875000         0.900000        0.072648              147  \n",
              "198           0.833333         0.866667        0.048591              172  \n",
              "199           0.958333         0.933333        0.056519               31  \n",
              "\n",
              "[200 rows x 16 columns]"
            ],
            "text/html": [
              "\n",
              "  <div id=\"df-f3829910-ab06-4744-a0c2-e4c3a68190c0\" class=\"colab-df-container\">\n",
              "    <div>\n",
              "<style scoped>\n",
              "    .dataframe tbody tr th:only-of-type {\n",
              "        vertical-align: middle;\n",
              "    }\n",
              "\n",
              "    .dataframe tbody tr th {\n",
              "        vertical-align: top;\n",
              "    }\n",
              "\n",
              "    .dataframe thead th {\n",
              "        text-align: right;\n",
              "    }\n",
              "</style>\n",
              "<table border=\"1\" class=\"dataframe\">\n",
              "  <thead>\n",
              "    <tr style=\"text-align: right;\">\n",
              "      <th></th>\n",
              "      <th>mean_fit_time</th>\n",
              "      <th>std_fit_time</th>\n",
              "      <th>mean_score_time</th>\n",
              "      <th>std_score_time</th>\n",
              "      <th>param_n_neighbors</th>\n",
              "      <th>param_p</th>\n",
              "      <th>param_weights</th>\n",
              "      <th>params</th>\n",
              "      <th>split0_test_score</th>\n",
              "      <th>split1_test_score</th>\n",
              "      <th>split2_test_score</th>\n",
              "      <th>split3_test_score</th>\n",
              "      <th>split4_test_score</th>\n",
              "      <th>mean_test_score</th>\n",
              "      <th>std_test_score</th>\n",
              "      <th>rank_test_score</th>\n",
              "    </tr>\n",
              "  </thead>\n",
              "  <tbody>\n",
              "    <tr>\n",
              "      <th>0</th>\n",
              "      <td>0.004035</td>\n",
              "      <td>0.000138</td>\n",
              "      <td>0.007491</td>\n",
              "      <td>0.000159</td>\n",
              "      <td>1</td>\n",
              "      <td>1</td>\n",
              "      <td>uniform</td>\n",
              "      <td>{'n_neighbors': 1, 'p': 1, 'weights': 'uniform'}</td>\n",
              "      <td>0.916667</td>\n",
              "      <td>0.916667</td>\n",
              "      <td>0.875000</td>\n",
              "      <td>0.958333</td>\n",
              "      <td>0.916667</td>\n",
              "      <td>0.916667</td>\n",
              "      <td>0.026352</td>\n",
              "      <td>115</td>\n",
              "    </tr>\n",
              "    <tr>\n",
              "      <th>1</th>\n",
              "      <td>0.003707</td>\n",
              "      <td>0.000459</td>\n",
              "      <td>0.003877</td>\n",
              "      <td>0.000277</td>\n",
              "      <td>1</td>\n",
              "      <td>1</td>\n",
              "      <td>distance</td>\n",
              "      <td>{'n_neighbors': 1, 'p': 1, 'weights': 'distance'}</td>\n",
              "      <td>0.916667</td>\n",
              "      <td>0.916667</td>\n",
              "      <td>0.875000</td>\n",
              "      <td>0.958333</td>\n",
              "      <td>0.916667</td>\n",
              "      <td>0.916667</td>\n",
              "      <td>0.026352</td>\n",
              "      <td>115</td>\n",
              "    </tr>\n",
              "    <tr>\n",
              "      <th>2</th>\n",
              "      <td>0.003824</td>\n",
              "      <td>0.000081</td>\n",
              "      <td>0.007401</td>\n",
              "      <td>0.000207</td>\n",
              "      <td>1</td>\n",
              "      <td>2</td>\n",
              "      <td>uniform</td>\n",
              "      <td>{'n_neighbors': 1, 'p': 2, 'weights': 'uniform'}</td>\n",
              "      <td>0.916667</td>\n",
              "      <td>0.916667</td>\n",
              "      <td>0.875000</td>\n",
              "      <td>0.958333</td>\n",
              "      <td>0.916667</td>\n",
              "      <td>0.916667</td>\n",
              "      <td>0.026352</td>\n",
              "      <td>115</td>\n",
              "    </tr>\n",
              "    <tr>\n",
              "      <th>3</th>\n",
              "      <td>0.003181</td>\n",
              "      <td>0.000325</td>\n",
              "      <td>0.003427</td>\n",
              "      <td>0.000206</td>\n",
              "      <td>1</td>\n",
              "      <td>2</td>\n",
              "      <td>distance</td>\n",
              "      <td>{'n_neighbors': 1, 'p': 2, 'weights': 'distance'}</td>\n",
              "      <td>0.916667</td>\n",
              "      <td>0.916667</td>\n",
              "      <td>0.875000</td>\n",
              "      <td>0.958333</td>\n",
              "      <td>0.916667</td>\n",
              "      <td>0.916667</td>\n",
              "      <td>0.026352</td>\n",
              "      <td>115</td>\n",
              "    </tr>\n",
              "    <tr>\n",
              "      <th>4</th>\n",
              "      <td>0.004270</td>\n",
              "      <td>0.001120</td>\n",
              "      <td>0.006981</td>\n",
              "      <td>0.000459</td>\n",
              "      <td>2</td>\n",
              "      <td>1</td>\n",
              "      <td>uniform</td>\n",
              "      <td>{'n_neighbors': 2, 'p': 1, 'weights': 'uniform'}</td>\n",
              "      <td>0.916667</td>\n",
              "      <td>0.916667</td>\n",
              "      <td>0.875000</td>\n",
              "      <td>0.958333</td>\n",
              "      <td>0.916667</td>\n",
              "      <td>0.916667</td>\n",
              "      <td>0.026352</td>\n",
              "      <td>115</td>\n",
              "    </tr>\n",
              "    <tr>\n",
              "      <th>...</th>\n",
              "      <td>...</td>\n",
              "      <td>...</td>\n",
              "      <td>...</td>\n",
              "      <td>...</td>\n",
              "      <td>...</td>\n",
              "      <td>...</td>\n",
              "      <td>...</td>\n",
              "      <td>...</td>\n",
              "      <td>...</td>\n",
              "      <td>...</td>\n",
              "      <td>...</td>\n",
              "      <td>...</td>\n",
              "      <td>...</td>\n",
              "      <td>...</td>\n",
              "      <td>...</td>\n",
              "      <td>...</td>\n",
              "    </tr>\n",
              "    <tr>\n",
              "      <th>195</th>\n",
              "      <td>0.003020</td>\n",
              "      <td>0.000126</td>\n",
              "      <td>0.103909</td>\n",
              "      <td>0.008233</td>\n",
              "      <td>49</td>\n",
              "      <td>2</td>\n",
              "      <td>distance</td>\n",
              "      <td>{'n_neighbors': 49, 'p': 2, 'weights': 'distan...</td>\n",
              "      <td>1.000000</td>\n",
              "      <td>0.916667</td>\n",
              "      <td>0.833333</td>\n",
              "      <td>0.958333</td>\n",
              "      <td>0.916667</td>\n",
              "      <td>0.925000</td>\n",
              "      <td>0.055277</td>\n",
              "      <td>76</td>\n",
              "    </tr>\n",
              "    <tr>\n",
              "      <th>196</th>\n",
              "      <td>0.006008</td>\n",
              "      <td>0.002815</td>\n",
              "      <td>0.013567</td>\n",
              "      <td>0.003005</td>\n",
              "      <td>50</td>\n",
              "      <td>1</td>\n",
              "      <td>uniform</td>\n",
              "      <td>{'n_neighbors': 50, 'p': 1, 'weights': 'uniform'}</td>\n",
              "      <td>0.916667</td>\n",
              "      <td>0.708333</td>\n",
              "      <td>0.875000</td>\n",
              "      <td>0.916667</td>\n",
              "      <td>0.791667</td>\n",
              "      <td>0.841667</td>\n",
              "      <td>0.080795</td>\n",
              "      <td>192</td>\n",
              "    </tr>\n",
              "    <tr>\n",
              "      <th>197</th>\n",
              "      <td>0.007244</td>\n",
              "      <td>0.002513</td>\n",
              "      <td>0.039848</td>\n",
              "      <td>0.004207</td>\n",
              "      <td>50</td>\n",
              "      <td>1</td>\n",
              "      <td>distance</td>\n",
              "      <td>{'n_neighbors': 50, 'p': 1, 'weights': 'distan...</td>\n",
              "      <td>1.000000</td>\n",
              "      <td>0.875000</td>\n",
              "      <td>0.791667</td>\n",
              "      <td>0.958333</td>\n",
              "      <td>0.875000</td>\n",
              "      <td>0.900000</td>\n",
              "      <td>0.072648</td>\n",
              "      <td>147</td>\n",
              "    </tr>\n",
              "    <tr>\n",
              "      <th>198</th>\n",
              "      <td>0.004105</td>\n",
              "      <td>0.001698</td>\n",
              "      <td>0.020436</td>\n",
              "      <td>0.014338</td>\n",
              "      <td>50</td>\n",
              "      <td>2</td>\n",
              "      <td>uniform</td>\n",
              "      <td>{'n_neighbors': 50, 'p': 2, 'weights': 'uniform'}</td>\n",
              "      <td>0.916667</td>\n",
              "      <td>0.791667</td>\n",
              "      <td>0.875000</td>\n",
              "      <td>0.916667</td>\n",
              "      <td>0.833333</td>\n",
              "      <td>0.866667</td>\n",
              "      <td>0.048591</td>\n",
              "      <td>172</td>\n",
              "    </tr>\n",
              "    <tr>\n",
              "      <th>199</th>\n",
              "      <td>0.002168</td>\n",
              "      <td>0.000049</td>\n",
              "      <td>0.003126</td>\n",
              "      <td>0.000028</td>\n",
              "      <td>50</td>\n",
              "      <td>2</td>\n",
              "      <td>distance</td>\n",
              "      <td>{'n_neighbors': 50, 'p': 2, 'weights': 'distan...</td>\n",
              "      <td>1.000000</td>\n",
              "      <td>0.916667</td>\n",
              "      <td>0.833333</td>\n",
              "      <td>0.958333</td>\n",
              "      <td>0.958333</td>\n",
              "      <td>0.933333</td>\n",
              "      <td>0.056519</td>\n",
              "      <td>31</td>\n",
              "    </tr>\n",
              "  </tbody>\n",
              "</table>\n",
              "<p>200 rows × 16 columns</p>\n",
              "</div>\n",
              "    <div class=\"colab-df-buttons\">\n",
              "\n",
              "  <div class=\"colab-df-container\">\n",
              "    <button class=\"colab-df-convert\" onclick=\"convertToInteractive('df-f3829910-ab06-4744-a0c2-e4c3a68190c0')\"\n",
              "            title=\"Convert this dataframe to an interactive table.\"\n",
              "            style=\"display:none;\">\n",
              "\n",
              "  <svg xmlns=\"http://www.w3.org/2000/svg\" height=\"24px\" viewBox=\"0 -960 960 960\">\n",
              "    <path d=\"M120-120v-720h720v720H120Zm60-500h600v-160H180v160Zm220 220h160v-160H400v160Zm0 220h160v-160H400v160ZM180-400h160v-160H180v160Zm440 0h160v-160H620v160ZM180-180h160v-160H180v160Zm440 0h160v-160H620v160Z\"/>\n",
              "  </svg>\n",
              "    </button>\n",
              "\n",
              "  <style>\n",
              "    .colab-df-container {\n",
              "      display:flex;\n",
              "      gap: 12px;\n",
              "    }\n",
              "\n",
              "    .colab-df-convert {\n",
              "      background-color: #E8F0FE;\n",
              "      border: none;\n",
              "      border-radius: 50%;\n",
              "      cursor: pointer;\n",
              "      display: none;\n",
              "      fill: #1967D2;\n",
              "      height: 32px;\n",
              "      padding: 0 0 0 0;\n",
              "      width: 32px;\n",
              "    }\n",
              "\n",
              "    .colab-df-convert:hover {\n",
              "      background-color: #E2EBFA;\n",
              "      box-shadow: 0px 1px 2px rgba(60, 64, 67, 0.3), 0px 1px 3px 1px rgba(60, 64, 67, 0.15);\n",
              "      fill: #174EA6;\n",
              "    }\n",
              "\n",
              "    .colab-df-buttons div {\n",
              "      margin-bottom: 4px;\n",
              "    }\n",
              "\n",
              "    [theme=dark] .colab-df-convert {\n",
              "      background-color: #3B4455;\n",
              "      fill: #D2E3FC;\n",
              "    }\n",
              "\n",
              "    [theme=dark] .colab-df-convert:hover {\n",
              "      background-color: #434B5C;\n",
              "      box-shadow: 0px 1px 3px 1px rgba(0, 0, 0, 0.15);\n",
              "      filter: drop-shadow(0px 1px 2px rgba(0, 0, 0, 0.3));\n",
              "      fill: #FFFFFF;\n",
              "    }\n",
              "  </style>\n",
              "\n",
              "    <script>\n",
              "      const buttonEl =\n",
              "        document.querySelector('#df-f3829910-ab06-4744-a0c2-e4c3a68190c0 button.colab-df-convert');\n",
              "      buttonEl.style.display =\n",
              "        google.colab.kernel.accessAllowed ? 'block' : 'none';\n",
              "\n",
              "      async function convertToInteractive(key) {\n",
              "        const element = document.querySelector('#df-f3829910-ab06-4744-a0c2-e4c3a68190c0');\n",
              "        const dataTable =\n",
              "          await google.colab.kernel.invokeFunction('convertToInteractive',\n",
              "                                                    [key], {});\n",
              "        if (!dataTable) return;\n",
              "\n",
              "        const docLinkHtml = 'Like what you see? Visit the ' +\n",
              "          '<a target=\"_blank\" href=https://colab.research.google.com/notebooks/data_table.ipynb>data table notebook</a>'\n",
              "          + ' to learn more about interactive tables.';\n",
              "        element.innerHTML = '';\n",
              "        dataTable['output_type'] = 'display_data';\n",
              "        await google.colab.output.renderOutput(dataTable, element);\n",
              "        const docLink = document.createElement('div');\n",
              "        docLink.innerHTML = docLinkHtml;\n",
              "        element.appendChild(docLink);\n",
              "      }\n",
              "    </script>\n",
              "  </div>\n",
              "\n",
              "\n",
              "<div id=\"df-c07c66d7-3edb-4811-9312-f9fd3e6a8139\">\n",
              "  <button class=\"colab-df-quickchart\" onclick=\"quickchart('df-c07c66d7-3edb-4811-9312-f9fd3e6a8139')\"\n",
              "            title=\"Suggest charts\"\n",
              "            style=\"display:none;\">\n",
              "\n",
              "<svg xmlns=\"http://www.w3.org/2000/svg\" height=\"24px\"viewBox=\"0 0 24 24\"\n",
              "     width=\"24px\">\n",
              "    <g>\n",
              "        <path d=\"M19 3H5c-1.1 0-2 .9-2 2v14c0 1.1.9 2 2 2h14c1.1 0 2-.9 2-2V5c0-1.1-.9-2-2-2zM9 17H7v-7h2v7zm4 0h-2V7h2v10zm4 0h-2v-4h2v4z\"/>\n",
              "    </g>\n",
              "</svg>\n",
              "  </button>\n",
              "\n",
              "<style>\n",
              "  .colab-df-quickchart {\n",
              "      --bg-color: #E8F0FE;\n",
              "      --fill-color: #1967D2;\n",
              "      --hover-bg-color: #E2EBFA;\n",
              "      --hover-fill-color: #174EA6;\n",
              "      --disabled-fill-color: #AAA;\n",
              "      --disabled-bg-color: #DDD;\n",
              "  }\n",
              "\n",
              "  [theme=dark] .colab-df-quickchart {\n",
              "      --bg-color: #3B4455;\n",
              "      --fill-color: #D2E3FC;\n",
              "      --hover-bg-color: #434B5C;\n",
              "      --hover-fill-color: #FFFFFF;\n",
              "      --disabled-bg-color: #3B4455;\n",
              "      --disabled-fill-color: #666;\n",
              "  }\n",
              "\n",
              "  .colab-df-quickchart {\n",
              "    background-color: var(--bg-color);\n",
              "    border: none;\n",
              "    border-radius: 50%;\n",
              "    cursor: pointer;\n",
              "    display: none;\n",
              "    fill: var(--fill-color);\n",
              "    height: 32px;\n",
              "    padding: 0;\n",
              "    width: 32px;\n",
              "  }\n",
              "\n",
              "  .colab-df-quickchart:hover {\n",
              "    background-color: var(--hover-bg-color);\n",
              "    box-shadow: 0 1px 2px rgba(60, 64, 67, 0.3), 0 1px 3px 1px rgba(60, 64, 67, 0.15);\n",
              "    fill: var(--button-hover-fill-color);\n",
              "  }\n",
              "\n",
              "  .colab-df-quickchart-complete:disabled,\n",
              "  .colab-df-quickchart-complete:disabled:hover {\n",
              "    background-color: var(--disabled-bg-color);\n",
              "    fill: var(--disabled-fill-color);\n",
              "    box-shadow: none;\n",
              "  }\n",
              "\n",
              "  .colab-df-spinner {\n",
              "    border: 2px solid var(--fill-color);\n",
              "    border-color: transparent;\n",
              "    border-bottom-color: var(--fill-color);\n",
              "    animation:\n",
              "      spin 1s steps(1) infinite;\n",
              "  }\n",
              "\n",
              "  @keyframes spin {\n",
              "    0% {\n",
              "      border-color: transparent;\n",
              "      border-bottom-color: var(--fill-color);\n",
              "      border-left-color: var(--fill-color);\n",
              "    }\n",
              "    20% {\n",
              "      border-color: transparent;\n",
              "      border-left-color: var(--fill-color);\n",
              "      border-top-color: var(--fill-color);\n",
              "    }\n",
              "    30% {\n",
              "      border-color: transparent;\n",
              "      border-left-color: var(--fill-color);\n",
              "      border-top-color: var(--fill-color);\n",
              "      border-right-color: var(--fill-color);\n",
              "    }\n",
              "    40% {\n",
              "      border-color: transparent;\n",
              "      border-right-color: var(--fill-color);\n",
              "      border-top-color: var(--fill-color);\n",
              "    }\n",
              "    60% {\n",
              "      border-color: transparent;\n",
              "      border-right-color: var(--fill-color);\n",
              "    }\n",
              "    80% {\n",
              "      border-color: transparent;\n",
              "      border-right-color: var(--fill-color);\n",
              "      border-bottom-color: var(--fill-color);\n",
              "    }\n",
              "    90% {\n",
              "      border-color: transparent;\n",
              "      border-bottom-color: var(--fill-color);\n",
              "    }\n",
              "  }\n",
              "</style>\n",
              "\n",
              "  <script>\n",
              "    async function quickchart(key) {\n",
              "      const quickchartButtonEl =\n",
              "        document.querySelector('#' + key + ' button');\n",
              "      quickchartButtonEl.disabled = true;  // To prevent multiple clicks.\n",
              "      quickchartButtonEl.classList.add('colab-df-spinner');\n",
              "      try {\n",
              "        const charts = await google.colab.kernel.invokeFunction(\n",
              "            'suggestCharts', [key], {});\n",
              "      } catch (error) {\n",
              "        console.error('Error during call to suggestCharts:', error);\n",
              "      }\n",
              "      quickchartButtonEl.classList.remove('colab-df-spinner');\n",
              "      quickchartButtonEl.classList.add('colab-df-quickchart-complete');\n",
              "    }\n",
              "    (() => {\n",
              "      let quickchartButtonEl =\n",
              "        document.querySelector('#df-c07c66d7-3edb-4811-9312-f9fd3e6a8139 button');\n",
              "      quickchartButtonEl.style.display =\n",
              "        google.colab.kernel.accessAllowed ? 'block' : 'none';\n",
              "    })();\n",
              "  </script>\n",
              "</div>\n",
              "    </div>\n",
              "  </div>\n"
            ]
          },
          "metadata": {},
          "execution_count": 40
        }
      ]
    },
    {
      "cell_type": "code",
      "source": [
        "results[[\"param_n_neighbors\", \"param_weights\", \"param_p\", \"mean_test_score\", \"rank_test_score\"]].head(10)"
      ],
      "metadata": {
        "colab": {
          "base_uri": "https://localhost:8080/",
          "height": 362
        },
        "id": "j3tdb09-NO09",
        "outputId": "7f208cbb-be66-405b-ff2a-6765b1d3bfa5"
      },
      "execution_count": 41,
      "outputs": [
        {
          "output_type": "execute_result",
          "data": {
            "text/plain": [
              "  param_n_neighbors param_weights param_p  mean_test_score  rank_test_score\n",
              "0                 1       uniform       1         0.916667              115\n",
              "1                 1      distance       1         0.916667              115\n",
              "2                 1       uniform       2         0.916667              115\n",
              "3                 1      distance       2         0.916667              115\n",
              "4                 2       uniform       1         0.916667              115\n",
              "5                 2      distance       1         0.916667              115\n",
              "6                 2       uniform       2         0.925000               76\n",
              "7                 2      distance       2         0.916667              115\n",
              "8                 3       uniform       1         0.941667               14\n",
              "9                 3      distance       1         0.933333               31"
            ],
            "text/html": [
              "\n",
              "  <div id=\"df-6e5df285-1e58-4319-b8a2-0887db07186b\" class=\"colab-df-container\">\n",
              "    <div>\n",
              "<style scoped>\n",
              "    .dataframe tbody tr th:only-of-type {\n",
              "        vertical-align: middle;\n",
              "    }\n",
              "\n",
              "    .dataframe tbody tr th {\n",
              "        vertical-align: top;\n",
              "    }\n",
              "\n",
              "    .dataframe thead th {\n",
              "        text-align: right;\n",
              "    }\n",
              "</style>\n",
              "<table border=\"1\" class=\"dataframe\">\n",
              "  <thead>\n",
              "    <tr style=\"text-align: right;\">\n",
              "      <th></th>\n",
              "      <th>param_n_neighbors</th>\n",
              "      <th>param_weights</th>\n",
              "      <th>param_p</th>\n",
              "      <th>mean_test_score</th>\n",
              "      <th>rank_test_score</th>\n",
              "    </tr>\n",
              "  </thead>\n",
              "  <tbody>\n",
              "    <tr>\n",
              "      <th>0</th>\n",
              "      <td>1</td>\n",
              "      <td>uniform</td>\n",
              "      <td>1</td>\n",
              "      <td>0.916667</td>\n",
              "      <td>115</td>\n",
              "    </tr>\n",
              "    <tr>\n",
              "      <th>1</th>\n",
              "      <td>1</td>\n",
              "      <td>distance</td>\n",
              "      <td>1</td>\n",
              "      <td>0.916667</td>\n",
              "      <td>115</td>\n",
              "    </tr>\n",
              "    <tr>\n",
              "      <th>2</th>\n",
              "      <td>1</td>\n",
              "      <td>uniform</td>\n",
              "      <td>2</td>\n",
              "      <td>0.916667</td>\n",
              "      <td>115</td>\n",
              "    </tr>\n",
              "    <tr>\n",
              "      <th>3</th>\n",
              "      <td>1</td>\n",
              "      <td>distance</td>\n",
              "      <td>2</td>\n",
              "      <td>0.916667</td>\n",
              "      <td>115</td>\n",
              "    </tr>\n",
              "    <tr>\n",
              "      <th>4</th>\n",
              "      <td>2</td>\n",
              "      <td>uniform</td>\n",
              "      <td>1</td>\n",
              "      <td>0.916667</td>\n",
              "      <td>115</td>\n",
              "    </tr>\n",
              "    <tr>\n",
              "      <th>5</th>\n",
              "      <td>2</td>\n",
              "      <td>distance</td>\n",
              "      <td>1</td>\n",
              "      <td>0.916667</td>\n",
              "      <td>115</td>\n",
              "    </tr>\n",
              "    <tr>\n",
              "      <th>6</th>\n",
              "      <td>2</td>\n",
              "      <td>uniform</td>\n",
              "      <td>2</td>\n",
              "      <td>0.925000</td>\n",
              "      <td>76</td>\n",
              "    </tr>\n",
              "    <tr>\n",
              "      <th>7</th>\n",
              "      <td>2</td>\n",
              "      <td>distance</td>\n",
              "      <td>2</td>\n",
              "      <td>0.916667</td>\n",
              "      <td>115</td>\n",
              "    </tr>\n",
              "    <tr>\n",
              "      <th>8</th>\n",
              "      <td>3</td>\n",
              "      <td>uniform</td>\n",
              "      <td>1</td>\n",
              "      <td>0.941667</td>\n",
              "      <td>14</td>\n",
              "    </tr>\n",
              "    <tr>\n",
              "      <th>9</th>\n",
              "      <td>3</td>\n",
              "      <td>distance</td>\n",
              "      <td>1</td>\n",
              "      <td>0.933333</td>\n",
              "      <td>31</td>\n",
              "    </tr>\n",
              "  </tbody>\n",
              "</table>\n",
              "</div>\n",
              "    <div class=\"colab-df-buttons\">\n",
              "\n",
              "  <div class=\"colab-df-container\">\n",
              "    <button class=\"colab-df-convert\" onclick=\"convertToInteractive('df-6e5df285-1e58-4319-b8a2-0887db07186b')\"\n",
              "            title=\"Convert this dataframe to an interactive table.\"\n",
              "            style=\"display:none;\">\n",
              "\n",
              "  <svg xmlns=\"http://www.w3.org/2000/svg\" height=\"24px\" viewBox=\"0 -960 960 960\">\n",
              "    <path d=\"M120-120v-720h720v720H120Zm60-500h600v-160H180v160Zm220 220h160v-160H400v160Zm0 220h160v-160H400v160ZM180-400h160v-160H180v160Zm440 0h160v-160H620v160ZM180-180h160v-160H180v160Zm440 0h160v-160H620v160Z\"/>\n",
              "  </svg>\n",
              "    </button>\n",
              "\n",
              "  <style>\n",
              "    .colab-df-container {\n",
              "      display:flex;\n",
              "      gap: 12px;\n",
              "    }\n",
              "\n",
              "    .colab-df-convert {\n",
              "      background-color: #E8F0FE;\n",
              "      border: none;\n",
              "      border-radius: 50%;\n",
              "      cursor: pointer;\n",
              "      display: none;\n",
              "      fill: #1967D2;\n",
              "      height: 32px;\n",
              "      padding: 0 0 0 0;\n",
              "      width: 32px;\n",
              "    }\n",
              "\n",
              "    .colab-df-convert:hover {\n",
              "      background-color: #E2EBFA;\n",
              "      box-shadow: 0px 1px 2px rgba(60, 64, 67, 0.3), 0px 1px 3px 1px rgba(60, 64, 67, 0.15);\n",
              "      fill: #174EA6;\n",
              "    }\n",
              "\n",
              "    .colab-df-buttons div {\n",
              "      margin-bottom: 4px;\n",
              "    }\n",
              "\n",
              "    [theme=dark] .colab-df-convert {\n",
              "      background-color: #3B4455;\n",
              "      fill: #D2E3FC;\n",
              "    }\n",
              "\n",
              "    [theme=dark] .colab-df-convert:hover {\n",
              "      background-color: #434B5C;\n",
              "      box-shadow: 0px 1px 3px 1px rgba(0, 0, 0, 0.15);\n",
              "      filter: drop-shadow(0px 1px 2px rgba(0, 0, 0, 0.3));\n",
              "      fill: #FFFFFF;\n",
              "    }\n",
              "  </style>\n",
              "\n",
              "    <script>\n",
              "      const buttonEl =\n",
              "        document.querySelector('#df-6e5df285-1e58-4319-b8a2-0887db07186b button.colab-df-convert');\n",
              "      buttonEl.style.display =\n",
              "        google.colab.kernel.accessAllowed ? 'block' : 'none';\n",
              "\n",
              "      async function convertToInteractive(key) {\n",
              "        const element = document.querySelector('#df-6e5df285-1e58-4319-b8a2-0887db07186b');\n",
              "        const dataTable =\n",
              "          await google.colab.kernel.invokeFunction('convertToInteractive',\n",
              "                                                    [key], {});\n",
              "        if (!dataTable) return;\n",
              "\n",
              "        const docLinkHtml = 'Like what you see? Visit the ' +\n",
              "          '<a target=\"_blank\" href=https://colab.research.google.com/notebooks/data_table.ipynb>data table notebook</a>'\n",
              "          + ' to learn more about interactive tables.';\n",
              "        element.innerHTML = '';\n",
              "        dataTable['output_type'] = 'display_data';\n",
              "        await google.colab.output.renderOutput(dataTable, element);\n",
              "        const docLink = document.createElement('div');\n",
              "        docLink.innerHTML = docLinkHtml;\n",
              "        element.appendChild(docLink);\n",
              "      }\n",
              "    </script>\n",
              "  </div>\n",
              "\n",
              "\n",
              "<div id=\"df-276b2b35-a185-46f1-840d-74b3434f5aca\">\n",
              "  <button class=\"colab-df-quickchart\" onclick=\"quickchart('df-276b2b35-a185-46f1-840d-74b3434f5aca')\"\n",
              "            title=\"Suggest charts\"\n",
              "            style=\"display:none;\">\n",
              "\n",
              "<svg xmlns=\"http://www.w3.org/2000/svg\" height=\"24px\"viewBox=\"0 0 24 24\"\n",
              "     width=\"24px\">\n",
              "    <g>\n",
              "        <path d=\"M19 3H5c-1.1 0-2 .9-2 2v14c0 1.1.9 2 2 2h14c1.1 0 2-.9 2-2V5c0-1.1-.9-2-2-2zM9 17H7v-7h2v7zm4 0h-2V7h2v10zm4 0h-2v-4h2v4z\"/>\n",
              "    </g>\n",
              "</svg>\n",
              "  </button>\n",
              "\n",
              "<style>\n",
              "  .colab-df-quickchart {\n",
              "      --bg-color: #E8F0FE;\n",
              "      --fill-color: #1967D2;\n",
              "      --hover-bg-color: #E2EBFA;\n",
              "      --hover-fill-color: #174EA6;\n",
              "      --disabled-fill-color: #AAA;\n",
              "      --disabled-bg-color: #DDD;\n",
              "  }\n",
              "\n",
              "  [theme=dark] .colab-df-quickchart {\n",
              "      --bg-color: #3B4455;\n",
              "      --fill-color: #D2E3FC;\n",
              "      --hover-bg-color: #434B5C;\n",
              "      --hover-fill-color: #FFFFFF;\n",
              "      --disabled-bg-color: #3B4455;\n",
              "      --disabled-fill-color: #666;\n",
              "  }\n",
              "\n",
              "  .colab-df-quickchart {\n",
              "    background-color: var(--bg-color);\n",
              "    border: none;\n",
              "    border-radius: 50%;\n",
              "    cursor: pointer;\n",
              "    display: none;\n",
              "    fill: var(--fill-color);\n",
              "    height: 32px;\n",
              "    padding: 0;\n",
              "    width: 32px;\n",
              "  }\n",
              "\n",
              "  .colab-df-quickchart:hover {\n",
              "    background-color: var(--hover-bg-color);\n",
              "    box-shadow: 0 1px 2px rgba(60, 64, 67, 0.3), 0 1px 3px 1px rgba(60, 64, 67, 0.15);\n",
              "    fill: var(--button-hover-fill-color);\n",
              "  }\n",
              "\n",
              "  .colab-df-quickchart-complete:disabled,\n",
              "  .colab-df-quickchart-complete:disabled:hover {\n",
              "    background-color: var(--disabled-bg-color);\n",
              "    fill: var(--disabled-fill-color);\n",
              "    box-shadow: none;\n",
              "  }\n",
              "\n",
              "  .colab-df-spinner {\n",
              "    border: 2px solid var(--fill-color);\n",
              "    border-color: transparent;\n",
              "    border-bottom-color: var(--fill-color);\n",
              "    animation:\n",
              "      spin 1s steps(1) infinite;\n",
              "  }\n",
              "\n",
              "  @keyframes spin {\n",
              "    0% {\n",
              "      border-color: transparent;\n",
              "      border-bottom-color: var(--fill-color);\n",
              "      border-left-color: var(--fill-color);\n",
              "    }\n",
              "    20% {\n",
              "      border-color: transparent;\n",
              "      border-left-color: var(--fill-color);\n",
              "      border-top-color: var(--fill-color);\n",
              "    }\n",
              "    30% {\n",
              "      border-color: transparent;\n",
              "      border-left-color: var(--fill-color);\n",
              "      border-top-color: var(--fill-color);\n",
              "      border-right-color: var(--fill-color);\n",
              "    }\n",
              "    40% {\n",
              "      border-color: transparent;\n",
              "      border-right-color: var(--fill-color);\n",
              "      border-top-color: var(--fill-color);\n",
              "    }\n",
              "    60% {\n",
              "      border-color: transparent;\n",
              "      border-right-color: var(--fill-color);\n",
              "    }\n",
              "    80% {\n",
              "      border-color: transparent;\n",
              "      border-right-color: var(--fill-color);\n",
              "      border-bottom-color: var(--fill-color);\n",
              "    }\n",
              "    90% {\n",
              "      border-color: transparent;\n",
              "      border-bottom-color: var(--fill-color);\n",
              "    }\n",
              "  }\n",
              "</style>\n",
              "\n",
              "  <script>\n",
              "    async function quickchart(key) {\n",
              "      const quickchartButtonEl =\n",
              "        document.querySelector('#' + key + ' button');\n",
              "      quickchartButtonEl.disabled = true;  // To prevent multiple clicks.\n",
              "      quickchartButtonEl.classList.add('colab-df-spinner');\n",
              "      try {\n",
              "        const charts = await google.colab.kernel.invokeFunction(\n",
              "            'suggestCharts', [key], {});\n",
              "      } catch (error) {\n",
              "        console.error('Error during call to suggestCharts:', error);\n",
              "      }\n",
              "      quickchartButtonEl.classList.remove('colab-df-spinner');\n",
              "      quickchartButtonEl.classList.add('colab-df-quickchart-complete');\n",
              "    }\n",
              "    (() => {\n",
              "      let quickchartButtonEl =\n",
              "        document.querySelector('#df-276b2b35-a185-46f1-840d-74b3434f5aca button');\n",
              "      quickchartButtonEl.style.display =\n",
              "        google.colab.kernel.accessAllowed ? 'block' : 'none';\n",
              "    })();\n",
              "  </script>\n",
              "</div>\n",
              "    </div>\n",
              "  </div>\n"
            ]
          },
          "metadata": {},
          "execution_count": 41
        }
      ]
    },
    {
      "cell_type": "code",
      "source": [
        "gs.best_score_"
      ],
      "metadata": {
        "colab": {
          "base_uri": "https://localhost:8080/"
        },
        "id": "X_UKYQcwNOyj",
        "outputId": "a133c999-aac6-4727-fd2e-db1b96e155f0"
      },
      "execution_count": 42,
      "outputs": [
        {
          "output_type": "execute_result",
          "data": {
            "text/plain": [
              "0.95"
            ]
          },
          "metadata": {},
          "execution_count": 42
        }
      ]
    },
    {
      "cell_type": "code",
      "source": [
        "gs.best_params_"
      ],
      "metadata": {
        "colab": {
          "base_uri": "https://localhost:8080/"
        },
        "id": "Axc33XAMNdpw",
        "outputId": "1b9134c1-9310-49e1-fdc1-c686806ebb50"
      },
      "execution_count": 43,
      "outputs": [
        {
          "output_type": "execute_result",
          "data": {
            "text/plain": [
              "{'n_neighbors': 4, 'p': 2, 'weights': 'uniform'}"
            ]
          },
          "metadata": {},
          "execution_count": 43
        }
      ]
    },
    {
      "cell_type": "code",
      "source": [
        "y_pred = gs.predict(X_test)\n",
        "accuracy_score(y_test, y_pred)"
      ],
      "metadata": {
        "colab": {
          "base_uri": "https://localhost:8080/"
        },
        "id": "0H3CeaCZNdnJ",
        "outputId": "3c703d4b-521d-4c17-87be-d441b4b15491"
      },
      "execution_count": 44,
      "outputs": [
        {
          "output_type": "execute_result",
          "data": {
            "text/plain": [
              "0.9666666666666667"
            ]
          },
          "metadata": {},
          "execution_count": 44
        }
      ]
    },
    {
      "cell_type": "code",
      "source": [
        "rs = RandomizedSearchCV(estimator = KNeighborsClassifier(),\n",
        "                        param_distributions = {\"n_neighbors\": range(1,51),\n",
        "                                               \"weights\": ['uniform', 'distance'],\n",
        "                                               \"p\": [1,2]},\n",
        "                        cv=5,\n",
        "                        n_iter=10)\n",
        "\n",
        "rs.fit(X_train, y_train)\n",
        "\n",
        "rs.best_score_"
      ],
      "metadata": {
        "colab": {
          "base_uri": "https://localhost:8080/"
        },
        "id": "apEKb4GMNdkV",
        "outputId": "bcbea7d6-7557-4237-dc4b-570923a57735"
      },
      "execution_count": 45,
      "outputs": [
        {
          "output_type": "execute_result",
          "data": {
            "text/plain": [
              "0.95"
            ]
          },
          "metadata": {},
          "execution_count": 45
        }
      ]
    },
    {
      "cell_type": "code",
      "source": [
        "rs.best_params_"
      ],
      "metadata": {
        "colab": {
          "base_uri": "https://localhost:8080/"
        },
        "id": "pNQl88n9Ndh0",
        "outputId": "6409f012-fd9b-41c7-9cd6-fa550aef53e9"
      },
      "execution_count": 46,
      "outputs": [
        {
          "output_type": "execute_result",
          "data": {
            "text/plain": [
              "{'weights': 'distance', 'p': 1, 'n_neighbors': 10}"
            ]
          },
          "metadata": {},
          "execution_count": 46
        }
      ]
    },
    {
      "cell_type": "code",
      "source": [
        "y_pred = rs.predict(X_test)\n",
        "accuracy_score(y_test, y_pred)"
      ],
      "metadata": {
        "colab": {
          "base_uri": "https://localhost:8080/"
        },
        "id": "ksR_JeWHNrKC",
        "outputId": "0f9318ca-8911-4f9f-8ef7-9a40b015dce2"
      },
      "execution_count": 47,
      "outputs": [
        {
          "output_type": "execute_result",
          "data": {
            "text/plain": [
              "1.0"
            ]
          },
          "metadata": {},
          "execution_count": 47
        }
      ]
    },
    {
      "cell_type": "markdown",
      "source": [
        "##  4) Use sklearn to implement K-NN and mlxtend to plot the desicion boundary\n"
      ],
      "metadata": {
        "id": "xJ0mwW1PNyRa"
      }
    },
    {
      "cell_type": "code",
      "source": [
        "from mlxtend.plotting import plot_decision_regions"
      ],
      "metadata": {
        "id": "b_ks3_jPNrHL"
      },
      "execution_count": 48,
      "outputs": []
    },
    {
      "cell_type": "code",
      "source": [
        "from sklearn.preprocessing import LabelEncoder\n",
        "\n",
        "le = LabelEncoder()\n",
        "y = le.fit_transform(y)\n",
        "y"
      ],
      "metadata": {
        "colab": {
          "base_uri": "https://localhost:8080/"
        },
        "id": "AK2qBCyDNrEQ",
        "outputId": "30b4f264-ce2d-41f6-c9fb-103a191f616d"
      },
      "execution_count": 49,
      "outputs": [
        {
          "output_type": "execute_result",
          "data": {
            "text/plain": [
              "array([0, 0, 0, 0, 0, 0, 0, 0, 0, 0, 0, 0, 0, 0, 0, 0, 0, 0, 0, 0, 0, 0,\n",
              "       0, 0, 0, 0, 0, 0, 0, 0, 0, 0, 0, 0, 0, 0, 0, 0, 0, 0, 0, 0, 0, 0,\n",
              "       0, 0, 0, 0, 0, 0, 1, 1, 1, 1, 1, 1, 1, 1, 1, 1, 1, 1, 1, 1, 1, 1,\n",
              "       1, 1, 1, 1, 1, 1, 1, 1, 1, 1, 1, 1, 1, 1, 1, 1, 1, 1, 1, 1, 1, 1,\n",
              "       1, 1, 1, 1, 1, 1, 1, 1, 1, 1, 1, 1, 2, 2, 2, 2, 2, 2, 2, 2, 2, 2,\n",
              "       2, 2, 2, 2, 2, 2, 2, 2, 2, 2, 2, 2, 2, 2, 2, 2, 2, 2, 2, 2, 2, 2,\n",
              "       2, 2, 2, 2, 2, 2, 2, 2, 2, 2, 2, 2, 2, 2, 2, 2, 2, 2])"
            ]
          },
          "metadata": {},
          "execution_count": 49
        }
      ]
    },
    {
      "cell_type": "code",
      "source": [
        "X_train, X_test, y_train, y_test = train_test_split(X, y, test_size=0.2, random_state=42)"
      ],
      "metadata": {
        "id": "ljFSLLlwNqMs"
      },
      "execution_count": 50,
      "outputs": []
    },
    {
      "cell_type": "code",
      "source": [
        "k=50                # trying k=50\n",
        "model = KNeighborsClassifier(n_neighbors=k)\n",
        "model.fit(X_train, y_train)"
      ],
      "metadata": {
        "colab": {
          "base_uri": "https://localhost:8080/",
          "height": 74
        },
        "id": "DMGRM54CN4z1",
        "outputId": "62361e5c-db96-4ce5-bd1d-c2582dbc49ed"
      },
      "execution_count": 51,
      "outputs": [
        {
          "output_type": "execute_result",
          "data": {
            "text/plain": [
              "KNeighborsClassifier(n_neighbors=50)"
            ],
            "text/html": [
              "<style>#sk-container-id-2 {color: black;background-color: white;}#sk-container-id-2 pre{padding: 0;}#sk-container-id-2 div.sk-toggleable {background-color: white;}#sk-container-id-2 label.sk-toggleable__label {cursor: pointer;display: block;width: 100%;margin-bottom: 0;padding: 0.3em;box-sizing: border-box;text-align: center;}#sk-container-id-2 label.sk-toggleable__label-arrow:before {content: \"▸\";float: left;margin-right: 0.25em;color: #696969;}#sk-container-id-2 label.sk-toggleable__label-arrow:hover:before {color: black;}#sk-container-id-2 div.sk-estimator:hover label.sk-toggleable__label-arrow:before {color: black;}#sk-container-id-2 div.sk-toggleable__content {max-height: 0;max-width: 0;overflow: hidden;text-align: left;background-color: #f0f8ff;}#sk-container-id-2 div.sk-toggleable__content pre {margin: 0.2em;color: black;border-radius: 0.25em;background-color: #f0f8ff;}#sk-container-id-2 input.sk-toggleable__control:checked~div.sk-toggleable__content {max-height: 200px;max-width: 100%;overflow: auto;}#sk-container-id-2 input.sk-toggleable__control:checked~label.sk-toggleable__label-arrow:before {content: \"▾\";}#sk-container-id-2 div.sk-estimator input.sk-toggleable__control:checked~label.sk-toggleable__label {background-color: #d4ebff;}#sk-container-id-2 div.sk-label input.sk-toggleable__control:checked~label.sk-toggleable__label {background-color: #d4ebff;}#sk-container-id-2 input.sk-hidden--visually {border: 0;clip: rect(1px 1px 1px 1px);clip: rect(1px, 1px, 1px, 1px);height: 1px;margin: -1px;overflow: hidden;padding: 0;position: absolute;width: 1px;}#sk-container-id-2 div.sk-estimator {font-family: monospace;background-color: #f0f8ff;border: 1px dotted black;border-radius: 0.25em;box-sizing: border-box;margin-bottom: 0.5em;}#sk-container-id-2 div.sk-estimator:hover {background-color: #d4ebff;}#sk-container-id-2 div.sk-parallel-item::after {content: \"\";width: 100%;border-bottom: 1px solid gray;flex-grow: 1;}#sk-container-id-2 div.sk-label:hover label.sk-toggleable__label {background-color: #d4ebff;}#sk-container-id-2 div.sk-serial::before {content: \"\";position: absolute;border-left: 1px solid gray;box-sizing: border-box;top: 0;bottom: 0;left: 50%;z-index: 0;}#sk-container-id-2 div.sk-serial {display: flex;flex-direction: column;align-items: center;background-color: white;padding-right: 0.2em;padding-left: 0.2em;position: relative;}#sk-container-id-2 div.sk-item {position: relative;z-index: 1;}#sk-container-id-2 div.sk-parallel {display: flex;align-items: stretch;justify-content: center;background-color: white;position: relative;}#sk-container-id-2 div.sk-item::before, #sk-container-id-2 div.sk-parallel-item::before {content: \"\";position: absolute;border-left: 1px solid gray;box-sizing: border-box;top: 0;bottom: 0;left: 50%;z-index: -1;}#sk-container-id-2 div.sk-parallel-item {display: flex;flex-direction: column;z-index: 1;position: relative;background-color: white;}#sk-container-id-2 div.sk-parallel-item:first-child::after {align-self: flex-end;width: 50%;}#sk-container-id-2 div.sk-parallel-item:last-child::after {align-self: flex-start;width: 50%;}#sk-container-id-2 div.sk-parallel-item:only-child::after {width: 0;}#sk-container-id-2 div.sk-dashed-wrapped {border: 1px dashed gray;margin: 0 0.4em 0.5em 0.4em;box-sizing: border-box;padding-bottom: 0.4em;background-color: white;}#sk-container-id-2 div.sk-label label {font-family: monospace;font-weight: bold;display: inline-block;line-height: 1.2em;}#sk-container-id-2 div.sk-label-container {text-align: center;}#sk-container-id-2 div.sk-container {/* jupyter's `normalize.less` sets `[hidden] { display: none; }` but bootstrap.min.css set `[hidden] { display: none !important; }` so we also need the `!important` here to be able to override the default hidden behavior on the sphinx rendered scikit-learn.org. See: https://github.com/scikit-learn/scikit-learn/issues/21755 */display: inline-block !important;position: relative;}#sk-container-id-2 div.sk-text-repr-fallback {display: none;}</style><div id=\"sk-container-id-2\" class=\"sk-top-container\"><div class=\"sk-text-repr-fallback\"><pre>KNeighborsClassifier(n_neighbors=50)</pre><b>In a Jupyter environment, please rerun this cell to show the HTML representation or trust the notebook. <br />On GitHub, the HTML representation is unable to render, please try loading this page with nbviewer.org.</b></div><div class=\"sk-container\" hidden><div class=\"sk-item\"><div class=\"sk-estimator sk-toggleable\"><input class=\"sk-toggleable__control sk-hidden--visually\" id=\"sk-estimator-id-2\" type=\"checkbox\" checked><label for=\"sk-estimator-id-2\" class=\"sk-toggleable__label sk-toggleable__label-arrow\">KNeighborsClassifier</label><div class=\"sk-toggleable__content\"><pre>KNeighborsClassifier(n_neighbors=50)</pre></div></div></div></div></div>"
            ]
          },
          "metadata": {},
          "execution_count": 51
        }
      ]
    },
    {
      "cell_type": "code",
      "source": [
        "y_pred = model.predict(X_test)\n",
        "\n",
        "accuracy_score(y_test, y_pred)"
      ],
      "metadata": {
        "colab": {
          "base_uri": "https://localhost:8080/"
        },
        "id": "xOs6tUECN4xA",
        "outputId": "e4f565c3-4233-4196-8ca6-7e365170e668"
      },
      "execution_count": 52,
      "outputs": [
        {
          "output_type": "execute_result",
          "data": {
            "text/plain": [
              "0.9333333333333333"
            ]
          },
          "metadata": {},
          "execution_count": 52
        }
      ]
    },
    {
      "cell_type": "code",
      "source": [
        "plot_decision_regions(X_test.to_numpy(), y_test, clf = model) # change to test data\n",
        "plt.xlabel('sepal length')\n",
        "plt.ylabel('sepal width')\n",
        "plt.title(f\"Decision Regions using {k}-NN and the Test Data\");"
      ],
      "metadata": {
        "colab": {
          "base_uri": "https://localhost:8080/",
          "height": 507
        },
        "id": "amD0VGuLN4uP",
        "outputId": "46abf135-31ea-46be-b4fc-7903c0ddbe11"
      },
      "execution_count": 53,
      "outputs": [
        {
          "output_type": "stream",
          "name": "stderr",
          "text": [
            "/usr/local/lib/python3.10/dist-packages/sklearn/base.py:439: UserWarning: X does not have valid feature names, but KNeighborsClassifier was fitted with feature names\n",
            "  warnings.warn(\n"
          ]
        },
        {
          "output_type": "display_data",
          "data": {
            "text/plain": [
              "<Figure size 640x480 with 1 Axes>"
            ],
            "image/png": "[encoded data removed]"
          },
          "metadata": {}
        }
      ]
    },
    {
      "cell_type": "code",
      "source": [],
      "metadata": {
        "id": "6YAc9cqgN4r8"
      },
      "execution_count": null,
      "outputs": []
    }
  ]
}